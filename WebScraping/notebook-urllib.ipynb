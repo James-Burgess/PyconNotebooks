{
 "cells": [
  {
   "cell_type": "markdown",
   "metadata": {},
   "source": [
    "# urllib"
   ]
  },
  {
   "cell_type": "markdown",
   "metadata": {},
   "source": [
    "## Preliminaries"
   ]
  },
  {
   "cell_type": "markdown",
   "metadata": {},
   "source": [
    "Check that we are running the expected version of Python (should be something like 3.5.3)."
   ]
  },
  {
   "cell_type": "code",
   "execution_count": 2,
   "metadata": {},
   "outputs": [
    {
     "data": {
      "text/plain": [
       "'3.6.2 (default, Jul 20 2017, 03:52:27) \\n[GCC 7.1.1 20170630]'"
      ]
     },
     "execution_count": 2,
     "metadata": {},
     "output_type": "execute_result"
    }
   ],
   "source": [
    "import sys\n",
    "sys.version"
   ]
  },
  {
   "cell_type": "markdown",
   "metadata": {},
   "source": [
    "Load some functions from `urllib`."
   ]
  },
  {
   "cell_type": "code",
   "execution_count": 3,
   "metadata": {},
   "outputs": [],
   "source": [
    "from urllib.parse import urlencode, urljoin\n",
    "from urllib.request import urlopen, urlretrieve, HTTPError, URLError\n",
    "from urllib.robotparser import RobotFileParser"
   ]
  },
  {
   "cell_type": "markdown",
   "metadata": {},
   "source": [
    "Other packages."
   ]
  },
  {
   "cell_type": "code",
   "execution_count": 4,
   "metadata": {},
   "outputs": [],
   "source": [
    "import os"
   ]
  },
  {
   "cell_type": "markdown",
   "metadata": {},
   "source": [
    "## Working with URLs"
   ]
  },
  {
   "cell_type": "markdown",
   "metadata": {},
   "source": [
    "### URL Encoding\n",
    "\n",
    "Some characters (like commas and spaces) need to be specially encoded when they are embedded in URLs. You can try this out [here](https://www.urlencoder.org/).\n",
    "\n",
    "The `urlencode()` function accepts a dictionary then encodes and concatenates each of its elements."
   ]
  },
  {
   "cell_type": "code",
   "execution_count": 5,
   "metadata": {},
   "outputs": [
    {
     "data": {
      "text/plain": [
       "'q=web+scraping&ie=UTF-8'"
      ]
     },
     "execution_count": 5,
     "metadata": {},
     "output_type": "execute_result"
    }
   ],
   "source": [
    "params = {\n",
    "    'q': 'web scraping',\n",
    "    'ie': 'UTF-8'\n",
    "}\n",
    "urlencode(params)"
   ]
  },
  {
   "cell_type": "markdown",
   "metadata": {},
   "source": [
    "### Builing a URL\n",
    "\n",
    "With `urljoin()` you can compose an absolute URL and a relative URL."
   ]
  },
  {
   "cell_type": "code",
   "execution_count": 6,
   "metadata": {},
   "outputs": [
    {
     "data": {
      "text/plain": [
       "'https://www.google.com/search'"
      ]
     },
     "execution_count": 6,
     "metadata": {},
     "output_type": "execute_result"
    }
   ],
   "source": [
    "urljoin('https://www.google.com', '/search')"
   ]
  },
  {
   "cell_type": "markdown",
   "metadata": {},
   "source": [
    "Now joining and encoding to form the complete URL for a Google query."
   ]
  },
  {
   "cell_type": "code",
   "execution_count": 7,
   "metadata": {},
   "outputs": [
    {
     "data": {
      "text/plain": [
       "'https://www.google.com/search?q=web+scraping&ie=UTF-8'"
      ]
     },
     "execution_count": 7,
     "metadata": {},
     "output_type": "execute_result"
    }
   ],
   "source": [
    "urljoin('https://www.google.com', '/search')+'?'+urlencode(params)"
   ]
  },
  {
   "cell_type": "markdown",
   "metadata": {},
   "source": [
    "## Retrieving a Web Page"
   ]
  },
  {
   "cell_type": "markdown",
   "metadata": {},
   "source": [
    "URLs on the [Private Property](https://www.privateproperty.co.za/) yield a hierarchy of information. Consider the following:\n",
    "\n",
    "`https://www.privateproperty.co.za/for-sale/kwazulu-natal/drakensberg/richmond-and-surrounds/byrne-valley/T479322`\n",
    "\n",
    "It tells us that the property is\n",
    "\n",
    "- \"for sale\" (as opposed to \"to rent\");\n",
    "- in the province of KwaZulu-Natal;\n",
    "- in the Drakensberg area;\n",
    "- in the vicinity of Richmond;\n",
    "- more specifically, the Byrne Valley; and\n",
    "- has a *unique* ID of T479322.\n",
    "\n",
    "It's the last bit that's really useful because it allows us to navigate directly to this property from the Home Page.\n",
    "\n",
    "For brevity we'll use [bitly](https://bitly.com/) to generate a short URL."
   ]
  },
  {
   "cell_type": "code",
   "execution_count": 18,
   "metadata": {},
   "outputs": [],
   "source": [
    "URL = \"http://bit.ly/2eL160q\""
   ]
  },
  {
   "cell_type": "markdown",
   "metadata": {},
   "source": [
    "Retrieve the HTTP response."
   ]
  },
  {
   "cell_type": "code",
   "execution_count": 9,
   "metadata": {},
   "outputs": [],
   "source": [
    "html = urlopen(URL)"
   ]
  },
  {
   "cell_type": "code",
   "execution_count": 10,
   "metadata": {},
   "outputs": [
    {
     "data": {
      "text/plain": [
       "<http.client.HTTPResponse at 0x7fe9906b5fd0>"
      ]
     },
     "execution_count": 10,
     "metadata": {},
     "output_type": "execute_result"
    }
   ],
   "source": [
    "html"
   ]
  },
  {
   "cell_type": "markdown",
   "metadata": {},
   "source": [
    "Take a look at the contents."
   ]
  },
  {
   "cell_type": "code",
   "execution_count": 11,
   "metadata": {},
   "outputs": [
    {
     "data": {
      "text/plain": [
       "b'\\r\\n<!DOCTYPE html>\\r\\n<html>\\r\\n<head>\\r\\n    <meta http-equiv=\"X-UA-Compatible\" content=\"IE=edge\">\\r\\n    <meta property=\"fb:app_id\" content=\"171012896285253\" />\\r\\n\\r\\n    \\r\\n    <meta name=\"msapplication-config\" content=\"/browserconfig.xml\">\\r\\n\\r\\n    \\r\\n        <meta name=\"description\" content=\"1.3 ha farm in Byrne Valley, A historic home in Byrne Valley.\\nA chance to own one of the first dwellings ever built in Byrne Vall\" />\\r\\n    \\r\\n\\r\\n<meta property=\"og:site_name\" content=\"Private Property\" />\\r\\n<meta property=\"og:locale\" content=\"en_us\" />\\r\\n<meta property=\"og:title\" content=\"1.3 ha farm for sale in Byrne Valley | T479322 | Private Property\" />\\r\\n        <meta property=\"og:image\" content=\"https://prppublicstore.blob.core.windows.net/live-za-images/property/552/33/2366552/images/property-2366552-66071495_e.jpg\" />\\r\\n        <meta property=\"og:image:width\" content=\"600\"/>\\r\\n        <meta property=\"og:image:height\" content=\"450\"/>\\r\\n<meta property=\"og:type\" content=\"privatepropertyfb:property\" />\\r\\n<meta property=\"og:url\" content=\"https://www.privateproperty.co.za/for-sale/kwazulu-natal/drakensberg/richmond-and-surrounds/byrne-valley/T479322\" />\\r\\n    <meta property=\"og:description\" content=\"1.3 ha farm in Byrne Valley, A historic home in Byrne Valley.\\nA chance to own one of the first dwellings ever built in Byrne Valley.  This historic home with wonderful views over the countryside, is set on a manageable 1.3 ha (ha...\" />    \\r\\n\\r\\n\\r\\n        <link rel=\"canonical\" href=\"https://www.privateproperty.co.za/for-sale/kwazulu-natal/drakensberg/richmond-and-surrounds/byrne-valley/T479322\" />\\r\\n    <title>\\r\\n        1.3 ha farm for sale in Byrne Valley | T479322 | Private Property\\r\\n    </title>\\r\\n    <link href=\"/bundles/site.9f8c585f586a1d26313b.css\" rel=\"stylesheet\"/>\\r\\n\\r\\n    \\r\\n    <link href=\"/bundles/listing.87f5645fc205aa02b88c.css\" rel=\"stylesheet\"/>\\r\\n\\r\\n\\r\\n    <!--[if lt IE 10]>\\r\\n        <link rel=\"stylesheet\" href=\"/Content/Portal/Styles/Layouts/LegacyBrowsers/LegacyOverrides.css\" />\\r\\n        <script src=\"/Scripts/Portal/ExternalLibraries/LegacyPolyfills/respond.matchmedia.addListener.min.js\"></script>\\r\\n        <script src=\"/Scripts/Portal/ExternalLibraries/LegacyPolyfills/respond.min.js\"></script>\\r\\n    <![endif]-->\\r\\n    \\r\\n        <script type=\"text/javascript\">\\r\\n            var appInsights = window.appInsights || function (config) {\\r\\n                function i(config) { t[config] = function () { var i = arguments; t.queue.push(function () { t[config].apply(t, i) }) } } var t = { config: config }, u = document, e = window, o = \"script\", s = \"AuthenticatedUserContext\", h = \"start\", c = \"stop\", l = \"Track\", a = l + \"Event\", v = l + \"Page\", y = u.createElement(o), r, f; y.src = config.url || \"https://az416426.vo.msecnd.net/scripts/a/ai.0.js\"; u.getElementsByTagName(o)[0].parentNode.appendChild(y); try { t.cookie = u.cookie } catch (p) { } for (t.queue = [], t.version = \"1.0\", r = [\"Event\", \"Exception\", \"Metric\", \"PageView\", \"Trace\", \"Dependency\"]; r.length;) i(\"track\" + r.pop()); return i(\"set\" + s), i(\"clear\" + s), i(h + a), i(c + a), i(h + v), i(c + v), i(\"flush\"), config.disableExceptionTracking || (r = \"onerror\", i(\"_\" + r), f = e[r], e[r] = function (config, i, u, e, o) { var s = f && f(config, i, u, e, o); return s !== !0 && t[\"_\" + r](config, i, u, e, o), s }), t\\r\\n            }({\\r\\n                instrumentationKey: \"e6390f8a-ea54-45cd-85ec-82cfdac916a4\",\\r\\n                samplingPercentage: 10,\\r\\n                disableExceptionTracking:true\\r\\n            });\\r\\n            window.appInsights = appInsights;\\r\\n            appInsights.trackPageView();\\r\\n        </script>\\r\\n    <script type=\"text/javascript\">\\r\\n        var _viewStatsEvents = [{\"Type\":330,\"EntityId\":\"2366552\",\"LinkId\":\"1\",\"Dim1\":\"1\",\"Dim2\":\"3787\",\"Dim3\":\"\",\"IncBy\":1}];\\r\\n        (function () {\\r\\n            var mf = document.createElement(\"script\"); mf.type = \"text/javascript\"; mf.async = true;\\r\\n            mf.src = \"/bundles/view-stats-startup.764bc8e945411431da62.bundle.js\";\\r\\n            document.getElementsByTagName(\"head\")[0].appendChild(mf);\\r\\n        })();\\r\\n    </script>\\r\\n\\r\\n    \\r\\n\\r\\n\\r\\n\\r\\n    \\r\\n\\r\\n<script>\\r\\n    \\r\\n    var _gaq = _gaq || [];\\r\\n    var googletag = googletag || {};\\r\\n    googletag.cmd = googletag.cmd || [];\\r\\n\\r\\n    \\r\\n    var ppAdvertSlots = ppAdvertSlots || [];\\r\\n    var _trackEvent = _trackEvent || {};\\r\\n</script>\\r\\n\\r\\n    <meta name=\"google-site-verification\" content=\"ftsdikeau1SzGd7D0Klyfz29o1PfGqkQ8AhTDx1GIwM\" /> \\r\\n\\r\\n            <script>\\r\\n            dataLayer = [\\r\\n                {\\r\\n\\r\\n                    \\'listing-type\\' : \\'Sales\\'\\r\\n                        ,\\r\\n                    \\'page\\' : \\'ListingDetails\\'\\r\\n                        ,\\r\\n                    \\'contact-type\\' : \\'Agent\\'\\r\\n                        ,\\r\\n                    \\'unique-id\\' : \\'2366552\\'\\r\\n                        ,\\r\\n                    \\'area\\' : \\'Richmond and surrounds\\'\\r\\n                        ,\\r\\n                    \\'province\\' : \\'KwaZulu Natal\\'\\r\\n                        ,\\r\\n                    \\'suburb\\' : \\'Byrne Valley\\'\\r\\n                        ,\\r\\n                    \\'bedrooms\\' : \\'2\\'\\r\\n                        ,\\r\\n                    \\'price-grouping\\' : \\'1\\'\\r\\n                        ,\\r\\n                    \\'price\\' : \\'R 700 000\\'\\r\\n\\r\\n                }\\r\\n            ];\\r\\n        </script>\\r\\n            <script>\\r\\n            (function (w, d, s, l, i) {\\r\\n                w[l] = w[l] || [];\\r\\n                w[l].push({ \\'gtm.start\\': new Date().getTime(), event: \\'gtm.js\\' });\\r\\n                var f = d.getElementsByTagName(s)[0], j = d.createElement(s), dl = l != \\'dataLayer\\' ? \\'&l=\\' + l : \\'\\';\\r\\n                j.async = true;\\r\\n                j.src = \\'//www.googletagmanager.com/gtm.js?id=\\' + i + dl;\\r\\n                f.parentNode.insertBefore(j, f);\\r\\n            })(window, document, \\'script\\', \\'dataLayer\\', \\'GTM-WFJ7QJ\\');\\r\\n        </script>\\r\\n    \\r\\n    \\r\\n\\r\\n\\r\\n    <!-- Facebook Pixel Code -->\\r\\n    <script>\\r\\n            !function (f, b, e, v, n, t, s) {\\r\\n                if (f.fbq) return; n = f.fbq = function () {\\r\\n                    n.callMethod ?\\r\\n                        n.callMethod.apply(n, arguments) : n.queue.push(arguments)\\r\\n                }; if (!f._fbq) f._fbq = n;\\r\\n                n.push = n; n.loaded = !0; n.version = \\'2.0\\'; n.queue = []; t = b.createElement(e); t.async = !0;\\r\\n                t.src = v; s = b.getElementsByTagName(e)[0]; s.parentNode.insertBefore(t, s)\\r\\n            }(window,\\r\\n                document, \\'script\\', \\'https://connect.facebook.net/en_US/fbevents.js\\');\\r\\n            fbq(\\'init\\', \\'1499692390338215\\'); // Insert your pixel ID here.\\r\\n            fbq(\\'track\\', \\'PageView\\');\\r\\n    </script>\\r\\n    <noscript>\\r\\n        <img height=\"1\" width=\"1\" style=\"display:none\"\\r\\n             src=\"https://www.facebook.com/tr?id=1499692390338215&ev=PageView&noscript=1\" />\\r\\n    </noscript>\\r\\n    <!-- DO NOT MODIFY -->\\r\\n    <!-- End Facebook Pixel Code -->\\r\\n\\r\\n\\r\\n</head>\\r\\n<body id=\"desktop\">\\r\\n    <div id=\"fb-root\"></div>\\r\\n            <noscript>\\r\\n            <iframe src=\"//www.googletagmanager.com/ns.html?id=GTM-WFJ7QJ\" height=\"0\" width=\"0\" style=\"display: none; visibility: hidden\"></iframe>\\r\\n        </noscript>\\r\\n    <header>\\r\\n        <div class=\"wrapper\">\\r\\n            <div class=\"row\">\\r\\n\\r\\n                    <a href=\"/\" class=\"logo\"></a>\\r\\n\\r\\n\\r\\n\\r\\n\\r\\n<nav class=\"siteNav  row\" id=\"siteNav\">\\r\\n\\r\\n    <ul class=\"leftSide row searchVisible\">\\r\\n\\r\\n        <li class=\"navigation relativePosition\">\\r\\n            <a href=\"#\" class=\"topMenu\">For Sale</a>\\r\\n            <div class=\"dropDown leftRelativeToNavigation\">\\r\\n\\r\\n        <a href=\"/for-sale/kwazulu-natal/drakensberg/richmond-and-surrounds/byrne-valley/2546?propertyTypes=0|1|2|7|3|10&amp;nostore=true\" title=\"Property For Sale in Byrne Valley\">\\r\\n            <span class=\"menuTitle\">All Property for Sale</span><span class=\"desc\"> in Byrne Valley</span>\\r\\n        </a>\\r\\n        <a href=\"/for-sale/kwazulu-natal/drakensberg/richmond-and-surrounds/byrne-valley/2546?propertyTypes=0&amp;nostore=true\" title=\"Houses For Sale in Byrne Valley\">\\r\\n            <span class=\"menuTitle\">Houses For Sale</span><span class=\"desc\"> in Byrne Valley</span>\\r\\n        </a>\\r\\n        <a href=\"/for-sale/kwazulu-natal/drakensberg/richmond-and-surrounds/byrne-valley/2546?propertyTypes=1&amp;nostore=true\" title=\"Apartments For Sale in Byrne Valley\">\\r\\n            <span class=\"menuTitle\">Apartments For Sale</span><span class=\"desc\"> in Byrne Valley</span>\\r\\n        </a>\\r\\n        <a href=\"/for-sale/kwazulu-natal/drakensberg/richmond-and-surrounds/byrne-valley/2546?propertyTypes=2&amp;nostore=true\" title=\"Complexes For Sale in Byrne Valley\">\\r\\n            <span class=\"menuTitle\">Complexes For Sale</span><span class=\"desc\"> in Byrne Valley</span>\\r\\n        </a>\\r\\n        <a href=\"/on-show/kwazulu-natal/drakensberg/richmond-and-surrounds/byrne-valley/2546\" class=\"row\" title=\"Property On Show\">\\r\\n            <span class=\"menuTitle\">Property On Show</span><span class=\"desc\">On Show properties across South Africa</span>\\r\\n        </a>\\r\\n        <a href=\"/commercial-sales/kwazulu-natal/drakensberg/richmond-and-surrounds/byrne-valley/2546\" title=\"Commercial Property For Sale in Byrne Valley\">\\r\\n            <span class=\"menuTitle\">Commercial Sales</span><span class=\"desc\"> in Byrne Valley</span>\\r\\n        </a>\\r\\n        <hr />\\r\\n        <a href=\"/estate-agents/kwazulu-natal/drakensberg/richmond-and-surrounds/byrne-valley/2546\" title=\"Estate Agents in Byrne Valley\">\\r\\n            <span class=\"menuTitle\">Estate Agents</span><span class=\"desc\"> in Byrne Valley</span>\\r\\n        </a>\\r\\n        <a href=\"/developments/South-Africa/1.htm\" title=\"New homes in secure developments\">\\r\\n            <span class=\"menuTitle\">Developments</span><span class=\"desc\"> New homes in secure developments</span>\\r\\n        </a>\\r\\n        <a href=\"/bank-sales.htm\" class=\"row\" title=\"Bank Sales &amp; Repos\">\\r\\n            <span class=\"menuTitle\">Bank Sales &amp; Repos</span><span class=\"desc\">Repossessed homes at low prices</span>\\r\\n        </a>\\r\\n        <hr />\\r\\n        <a href=\"/advice/property/buying-advice/3351\" class=\"row\" title=\"Advice for Buyers\">\\r\\n            <span class=\"menuTitle\">Advice for Buyers</span><span class=\"desc\">Expert advice on buying property</span>\\r\\n        </a>\\r\\n        <a href=\"/Portal/PropertyAlerts\" class=\"row\" title=\"Receive Email Alerts\">\\r\\n            <span class=\"menuTitle\">Receive Email Alerts</span><span class=\"desc\">Receive notifications on new Properties For Sale</span>\\r\\n        </a>\\r\\n\\r\\n            </div>\\r\\n        </li>\\r\\n\\r\\n        <li class=\"navigation relativePosition\">\\r\\n            <a href=\"#\" class=\"topMenu\">To Rent</a>\\r\\n            <div class=\"dropDown leftRelativeToNavigation\">\\r\\n\\r\\n\\r\\n\\r\\n        <a href=\"/to-rent/kwazulu-natal/drakensberg/richmond-and-surrounds/byrne-valley/2546?propertyTypes=0|1|2|11|3|7&amp;nostore=true\" class=\"row\" title=\"Property To Rent in Byrne Valley\">\\r\\n            <span class=\"menuTitle\">Property To Rent</span><span class=\"desc\"> in Byrne Valley</span>\\r\\n        </a>\\r\\n        <a href=\"/to-rent/kwazulu-natal/drakensberg/richmond-and-surrounds/byrne-valley/2546?propertyTypes=0&amp;nostore=true\" class=\"row\" title=\"Houses To Rent in Byrne Valley\">\\r\\n        <span class=\"menuTitle\">Houses To Rent</span><span class=\"desc\"> in Byrne Valley</span>\\r\\n        </a>\\r\\n        <a href=\"/to-rent/kwazulu-natal/drakensberg/richmond-and-surrounds/byrne-valley/2546?propertyTypes=1&amp;nostore=true\" class=\"row\" title=\"Apartments To Rent in Byrne Valley\">\\r\\n            <span class=\"menuTitle\">Apartments To Rent</span><span class=\"desc\"> in Byrne Valley</span>\\r\\n        </a>\\r\\n        <a href=\"/to-rent/kwazulu-natal/drakensberg/richmond-and-surrounds/byrne-valley/2546?propertyTypes=2&amp;nostore=true\" class=\"row\" title=\"Complexes To Rent in Byrne Valley\">\\r\\n            <span class=\"menuTitle\">Complexes To Rent</span><span class=\"desc\"> in Byrne Valley</span>\\r\\n        </a>\\r\\n        <a href=\"/commercial-rentals/kwazulu-natal/drakensberg/richmond-and-surrounds/byrne-valley/2546\" class=\"row\" title=\"Commercial Rentals in Byrne Valley\">\\r\\n            <span class=\"menuTitle\">Commercial Rentals</span><span class=\"desc\"> in Byrne Valley</span>\\r\\n        </a>\\r\\n        <hr />\\r\\n        <a href=\"/estate-agents/kwazulu-natal/drakensberg/richmond-and-surrounds/byrne-valley/2546\" class=\"row\" title=\"Estate Agents in Byrne Valley\">\\r\\n            <span class=\"menuTitle\">Estate Agents</span><span class=\"desc\"> in Byrne Valley</span>\\r\\n        </a>\\r\\n        <hr />\\r\\n        <a href=\"/advice/property/tenant-advice/3353\" class=\"row\" title=\"Advice for Tenants\">\\r\\n            <span class=\"menuTitle\">Advice for Tenants</span><span class=\"desc\">Expert advice on renting a property</span>\\r\\n        </a>\\r\\n        <a href=\"/Portal/PropertyAlerts?listingType=Rentals\" class=\"row\" title=\"Receive Rental Email Alerts\">\\r\\n            <span class=\"menuTitle\">Receive Email Alerts</span><span class=\"desc\">Get notifications on new Property To Rent</span>\\r\\n        </a>\\r\\n        <a href=\"/advice/property/articles/tenants-stand-out-from-the-crowd-with-ekaya-vip/5780\" class=\"row\" title=\"Tenant VIP Profile\">\\r\\n            <span class=\"menuTitle\">Tenant VIP Profile</span><span class=\"desc\">Apply for unlimited rentals online with VIP from Ekaya</span>\\r\\n        </a>\\r\\n\\r\\n            </div>\\r\\n        </li>\\r\\n\\r\\n        <li class=\"navigation relativePosition\">\\r\\n            <a href=\"#\" class=\"topMenu\">Commercial</a>\\r\\n            <div class=\"dropDown leftRelativeToNavigation\">\\r\\n\\r\\n    <a href=\"/commercial-sales/kwazulu-natal/drakensberg/richmond-and-surrounds/byrne-valley/2546\" class=\"row\" title=\"Commercial Sales in Byrne Valley\">\\r\\n        <span class=\"menuTitle widerTitle\">Commercial Sales</span><span class=\"desc\">in Byrne Valley</span>\\r\\n    </a>\\r\\n    <a href=\"/commercial-rentals/kwazulu-natal/drakensberg/richmond-and-surrounds/byrne-valley/2546\" class=\"row\" title=\"Commercial Rentals in Byrne Valley\">\\r\\n        <span class=\"menuTitle widerTitle\">Commercial Rentals</span><span class=\"desc\">in Byrne Valley</span>\\r\\n    </a>\\r\\n    <hr />\\r\\n    <a href=\"/Portal/PropertyAlerts\" class=\"row\" title=\"Recieve Commercial Email Alerts\">\\r\\n        <span class=\"menuTitle widerTitle\">Receive Email Alerts</span><span class=\"desc\">Receive notifications on new Commercial Property</span>\\r\\n    </a>\\r\\n\\r\\n            </div>\\r\\n        </li>\\r\\n\\r\\n        <li class=\"navigation\">\\r\\n            <a href=\"#\" class=\"topMenu\">Advice</a>\\r\\n            <div class=\"dropDown rightRelativeToSiteNav\">\\r\\n                <a href=\"/advice\" class=\"row\" title=\"Advice Centre\"><span class=\"menuTitle\">Advice Centre</span><span class=\"desc\">All your property related advice in one spot</span></a>\\r\\n                <hr />\\r\\n                <a href=\"/advice/property\" class=\"row\" title=\"Property Advice\"><span class=\"menuTitle\">Property Advice</span><span class=\"desc\">Insights for buyers, sellers, landlords and tenants</span></a>\\r\\n                <a href=\"/advice/news\" class=\"row\" title=\"News\"><span class=\"menuTitle\">News</span><span class=\"desc\">Breaking news in the SA property market</span></a>\\r\\n                <a href=\"/advice/lifestyle\" class=\"row\" title=\"Lifestyle and Decor\"><span class=\"menuTitle\">Lifestyle and Decor</span><span class=\"desc\">Handy maintenance, decor and DIY tips</span></a>\\r\\n                <a href=\"/neighbourhoods\" class=\"row\" title=\"Neighbourhoods\"><span class=\"menuTitle\">Neighbourhoods</span><span class=\"desc\">Get to know SA\\'s best neighbourhoods</span></a>\\r\\n                <a href=\"/advice/property-tv\" class=\"row\" title=\"Property TV\"><span class=\"menuTitle\">Property TV</span><span class=\"desc\">Catch up on our TV show appearances</span></a>\\r\\n                \\r\\n\\r\\n                <a href=\"/advice/agent-advice\" class=\"row\" title=\"Agent Advice\"><span class=\"menuTitle\">Agent Advice</span><span class=\"desc\">Great advice for industry professionals</span></a>\\r\\n                <hr />\\r\\n                <a href=\"http://eepurl.com/PnGeL\" class=\"row\" title=\"Newsletter\" target=\"_blank\"><span class=\"menuTitle\">Newsletter</span><span class=\"desc\">General and investment advice on the property market</span></a>\\r\\n            </div>\\r\\n        </li>\\r\\n\\r\\n        <li class=\"navigation\">\\r\\n            <a href=\"#\" class=\"topMenu\">Services</a>\\r\\n            <div class=\"dropDown rightRelativeToSiteNav\">\\r\\n                <a href=\"/list-your-property/list-for-sale.htm\" class=\"row\" title=\"Sell Your Property\"><span class=\"menuTitle widerTitle\">Sell Your Property</span><span class=\"desc\">Advertise your property to millions of interested buyers</span></a>\\r\\n                <a href=\"/list-your-property/list-to-rent.htm\" class=\"row\" title=\"Let Your Property\"><span class=\"menuTitle widerTitle\">Rent Your Property</span><span class=\"desc\"><em class=\"greenText\">Free to advertise</em> on SA\\'s largest rental platform</span></a>\\r\\n                <hr />\\r\\n                <a href=\"/advice/property/articles/tenants-stand-out-from-the-crowd-with-ekaya-vip/5780\" class=\"row\" title=\"Tenant VIP Profile\"><span class=\"menuTitle widerTitle\">Tenant VIP Profile</span><span class=\"desc\">Apply for unlimited rentals online with VIP from Ekaya</span></a>\\r\\n                <a href=\"/advice/property/articles/ekaya-vip-a-smart-solution-for-smart-landlords/5781\" class=\"row\" title=\"Tenant Vetting\"><span class=\"menuTitle widerTitle\">Tenant Vetting</span><span class=\"desc\">Vet all your potential tenants with VIP from Ekaya</span></a>\\r\\n                <hr />\\r\\n                <a href=\"/bond-calculator.htm?rt=bondcalcmenu\" class=\"row\" title=\"Bond Repayments Calculator\"><span class=\"menuTitle widerTitle\">Bond Calculator</span><span class=\"desc\">Calculate the monthly repayments on your bond</span></a>\\r\\n                <a href=\"/bond-affordability-calculator.htm?rt=affordabilitycalcmenu\" class=\"row\" title=\"Bond Affordability Calculator\"><span class=\"menuTitle widerTitle\">Affordability Calculator</span><span class=\"desc\">Calculate the maximum bond you can afford</span></a>\\r\\n                <hr />\\r\\n                <a href=\"/ooba\" class=\"row\">\\r\\n                    <span class=\"menuTitle widerTitle\">ooba Home Loans</span>\\r\\n                    <span class=\"desc\">Get prequalified for a home loan today.</span>\\r\\n                </a>\\r\\n                <a href=\"/betterbond\" class=\"row\">\\r\\n                    <span class=\"menuTitle widerTitle\">Better Bond Home Loans</span>\\r\\n                    <span class=\"desc\">We get you preapproved so you know what you can afford.</span>\\r\\n                </a>\\r\\n                <a href=\"/bridging_finance.htm\" class=\"row\" title=\"Bridging Finance\"><span class=\"menuTitle widerTitle\">Bridging Finance</span><span class=\"desc\">Access your funds immediately after selling your property</span></a>\\r\\n\\r\\n                \\r\\n                <hr />\\r\\n                <a href=\"/attorneys/list/kwazulu-natal/drakensberg/richmond-and-surrounds/byrne-valley/2546\" class=\"row\" title=\"Attorney Database\"><span class=\"menuTitle widerTitle\">Attorney Directory</span><span class=\"desc\">Find a good attorney in your area</span></a>\\r\\n                <a href=\"/estate-agents-in-south-africa\" class=\"row\" title=\"Find an Agent\"><span class=\"menuTitle widerTitle\">Find an Agent</span><span class=\"desc\">Find a good estate agent in your area</span></a>\\r\\n                <a href=\"/list-your-property/list-as-an-agent.htm\" class=\"row\" title=\"Advertise Your Agency\"><span class=\"menuTitle widerTitle\">Advertise Your Agency</span><span class=\"desc\">Join other top estate agencies on Private Property</span></a>\\r\\n                <a href=\"/rebosa\" class=\"row\" title=\"Rebosa\"><span class=\"menuTitle widerTitle\">REBOSA</span><span class=\"desc\">Private Property is the exclusive portal partner to REBOSA</span></a>\\r\\n            </div>\\r\\n        </li>\\r\\n    </ul>\\r\\n\\r\\n    <ul class=\"rightSide row\">\\r\\n\\r\\n        \\r\\n\\r\\n            <li class=\"search navigation\">\\r\\n                <a href=\"#\" id=\"menuSearch\" class=\"topMenu\">Search</a>\\r\\n\\r\\n\\r\\n\\r\\n                <div class=\"dropDown rightRelativeToSiteNav\">\\r\\n                    <div id=\"menuSeachBox\"></div>\\r\\n                    \\r\\n\\r\\n                    <div class=\"suggestions row\">\\r\\n                        <div class=\"nearby\">\\r\\n                            <div class=\"searchHeading\">Nearby Suburbs and Areas</div>\\r\\n                            <ul id=\"nearbyShapes\">\\r\\n                                    <li>\\r\\n                                        <a title=\"Richmond\" href=\"/for-sale/kwazulu-natal/drakensberg/richmond-and-surrounds/richmond/88\">Richmond</a>\\r\\n                                    </li>\\r\\n                                    <li>\\r\\n                                        <a title=\"Ixopo\" href=\"/for-sale/kwazulu-natal/drakensberg/richmond-and-surrounds/ixopo/1463\">Ixopo</a>\\r\\n                                    </li>\\r\\n                                    <li>\\r\\n                                        <a title=\"Creighton\" href=\"/for-sale/kwazulu-natal/drakensberg/richmond-and-surrounds/creighton/1462\">Creighton</a>\\r\\n                                    </li>\\r\\n                            </ul>\\r\\n                        </div>\\r\\n                        <div class=\"recentSearches\">\\r\\n                            <div class=\"searchHeading\">Recent Searches</div>\\r\\n                            <ul id=\"recentSearches\">\\r\\n                            </ul>\\r\\n                        </div>\\r\\n                    </div>\\r\\n\\r\\n                </div>\\r\\n            </li>\\r\\n\\r\\n        \\r\\n        <li class=\"login\">\\r\\n\\r\\n            <a href=\"#\" id=\"loginSignup\" class=\"topMenu\">\\r\\n                <div id=\"loginIcon\"></div>\\r\\n                    Sign In\\r\\n            </a>\\r\\n\\r\\n            <div class=\"dropDown rightRelativeToSiteNav\">\\r\\n                    <a href=\"#login\" class=\"modalLink\" title=\"Sign In\"><span class=\"menuTitle narrowerTitle\">Sign In</span><span class=\"desc\">Have an existing account?</span></a>\\r\\n                    <a href=\"#signup\" class=\"modalLink\" title=\"Register\"><span class=\"menuTitle narrowerTitle\">Register</span><span class=\"desc\">Create a new account</span></a>\\r\\n                    <hr />\\r\\n                    <a href=\"/Portal/AccountHolders/ForgotPassword?returnUrl=%2ffor-sale%2fkwazulu-natal%2fdrakensberg%2frichmond-and-surrounds%2fbyrne-valley%2fT479322\" class=\"menuTitle\" title=\"Forgot Your Password\"><span class=\"menuTitle\">Forgot Your Password</span></a>\\r\\n            </div>\\r\\n        </li>\\r\\n\\r\\n    </ul>\\r\\n\\r\\n</nav>\\r\\n            </div>\\r\\n\\r\\n<div class=\"breadcrumbContainer \">\\r\\n    <div class=\"breadcrumb\">\\r\\n            <a class=\"previousPage\" id=\"backButton\" href=\"/for-sale/kwazulu-natal/drakensberg/richmond-and-surrounds/byrne-valley/2546\" title=\"Byrne Valley\">Back to <span class=\"backlink\">Byrne Valley</span></a>\\r\\n\\r\\n        <span class=\"mainCrumbs\">\\r\\n                    <a href=\"/\">Property For Sale</a>\\r\\n                    <span class=\"crumbSeparator\">&nbsp;&gt;&nbsp;</span>\\r\\n\\r\\n                <span itemscope itemtype=\"http://data-vocabulary.org/Breadcrumb\">\\r\\n\\r\\n                        <a href=\"/for-sale/kwazulu-natal/2\" itemprop=\"url\"><span itemprop=\"title\">KwaZulu Natal</span></a>\\r\\n                        <span class=\"crumbSeparator\">&nbsp;&gt;&nbsp;</span>\\r\\n\\r\\n                </span>\\r\\n                <span itemscope itemtype=\"http://data-vocabulary.org/Breadcrumb\">\\r\\n\\r\\n                        <a href=\"/for-sale/kwazulu-natal/drakensberg/2530\" itemprop=\"url\"><span itemprop=\"title\">Drakensberg</span></a>\\r\\n                        <span class=\"crumbSeparator\">&nbsp;&gt;&nbsp;</span>\\r\\n\\r\\n                </span>\\r\\n                <span itemscope itemtype=\"http://data-vocabulary.org/Breadcrumb\">\\r\\n\\r\\n                        <a href=\"/for-sale/kwazulu-natal/drakensberg/richmond-and-surrounds/2533\" itemprop=\"url\"><span itemprop=\"title\">Richmond and surrounds</span></a>\\r\\n                        <span class=\"crumbSeparator\">&nbsp;&gt;&nbsp;</span>\\r\\n\\r\\n                </span>\\r\\n                <span itemscope itemtype=\"http://data-vocabulary.org/Breadcrumb\">\\r\\n\\r\\n                        <a href=\"/for-sale/kwazulu-natal/drakensberg/richmond-and-surrounds/byrne-valley/2546\" itemprop=\"url\"><span itemprop=\"title\">Byrne Valley</span></a>\\r\\n                        <span class=\"crumbSeparator\">&nbsp;&gt;&nbsp;</span>\\r\\n\\r\\n                </span>\\r\\n                <span itemscope itemtype=\"http://data-vocabulary.org/Breadcrumb\">\\r\\n\\r\\n                        <a href=\"/for-sale/kwazulu-natal/drakensberg/richmond-and-surrounds/byrne-valley/T479322\" itemprop=\"url\"><span itemprop=\"title\">T479322</span></a>\\r\\n\\r\\n                </span>\\r\\n        </span>\\r\\n    </div>\\r\\n</div>\\r\\n        </div>\\r\\n        \\r\\n        \\r\\n    </header>\\r\\n    <section id=\"content\">\\r\\n        \\r\\n\\r\\n\\r\\n\\r\\n\\r\\n<div id=\"details\" class=\"row \">\\r\\n\\r\\n<div class=\"contactDocker\" style=background-color:#121F49;>\\r\\n    <div class=\"backgroundColorHolder\">\\r\\n        <div class=\"brandColor\" style=background-color:#121F49>\\r\\n        </div>\\r\\n        <div class=\"bgColor\"></div>\\r\\n    </div>\\r\\n    <div class=\"wrapper row\">\\r\\n        <div class=\"contactInfo row\" style=background-color:#121F49;color:#fff>\\r\\n            <div class=\"listingInfo\">\\r\\n                <p class=\"title\">1.3 ha farm in Byrne Valley</p>\\r\\n                <p class=\"price\">\\r\\n                    <span class=\"detailsCurrencySymbol\">R</span>\\r\\n                    <span class=\"detailsPrice\">700 000</span>\\r\\n                    \\r\\n                                    </p>\\r\\n            </div>\\r\\n            <div id=\"contactDockerGallery\" class=\"swiper-container contact\">\\r\\n                <div class=\"swiper-wrapper\">\\r\\n                    <div class=\"swiper-slide swiper-no-swiping\">\\r\\n                        <p class=\"name\">Vanessa Foxon</p>\\r\\n                            <p class=\"agencyName\">\\r\\n                                Dormehl Property Group-Howick\\r\\n                            </p>\\r\\n                    </div>\\r\\n                </div>\\r\\n            </div>\\r\\n        </div>\\r\\n        <div class=\"contactButtons\">\\r\\n\\r\\n                    <button class=\"orangeButton\" id=\"emailContact\" data-account-holder-id=\"1887871\" data-ref-tag=\"\">Contact Agent</button>\\r\\n            <div id=\"dockerWishlist\">\\r\\n            </div>\\r\\n        </div>\\r\\n    </div>\\r\\n</div>    <div class=\"galleryBand\">\\r\\n                <div class=\"wrapper\">\\r\\n                    <a class=\"mainImage galleryImage modalLink\" href=\"#mediaGallery\" style=background-image:url(https://prppublicstore.blob.core.windows.net/live-za-images/property/552/33/2366552/images/property-2366552-66071495_sd.jpg);\\r\\n                       title=\"1.3 ha farm in Byrne Valley photo number 1\" data-media-type=\"image\" data-media-index=\"0\">\\r\\n                        <div class=\"galleryInfo\">\\r\\n                            <div class=\"wishlistButton\" data-props=\"{&quot;listingId&quot;:2366552,&quot;listingType&quot;:1,&quot;isOnWishlist&quot;:false}\"></div>\\r\\n                        </div>\\r\\n                    </a>\\r\\n                </div>\\r\\n        <div class=\"listingStateHolder\">\\r\\n            <div class=\"wrapper\">\\r\\n                            </div>\\r\\n        </div>\\r\\n    </div>\\r\\n    <div class=\"contentWhite listingInfo buttonBar\">\\r\\n        <div class=\"wrapper row\">\\r\\n                <div class=\"buttonsContainer\">\\r\\n                    <div class=\"mediaButtons\">\\r\\n                                                    <a class=\"mediaLink modalLink mediaPhotos\" id=\"photosMediaLink\" data-media-index=\"0\" data-media-type=\"image\" href=\"#mediaGallery\" rel=\"nofollow\">Photos <span>5</span></a>\\r\\n                        \\r\\n\\r\\n                                            </div>\\r\\n                </div>\\r\\n        </div>\\r\\n    </div>\\r\\n    <div class=\"contentWhite listingInfo\">\\r\\n\\r\\n        <div class=\"topSection wrapper row\">\\r\\n            <div class=\"topLeft\">\\r\\n                <div class=\"marginedIn\">\\r\\n                    <div class=\"titleContainer\">\\r\\n\\r\\n\\r\\n\\r\\n                        <h1>1.3 ha farm in Byrne Valley</h1>\\r\\n\\r\\n                        <h2 class=\"priceInfo\">\\r\\n\\r\\n                                    <span class=\"detailsCurrencySymbol\">R</span>\\r\\n                                <span class=\"detailsPrice\">700 000</span>\\r\\n                            \\r\\n                                                    </h2>\\r\\n\\r\\n\\r\\n\\r\\n                            <a id=\"canIAfford\" href=\"#bondCalculatorAnchor\" class=\"noAddress \">Can I afford this?</a>\\r\\n\\r\\n                            <div class=\"resultFeatures row noAddress\">\\r\\n                                    <div class=\"feature\">\\r\\n                                        <span>2</span> Beds\\r\\n                                    </div>\\r\\n                                                                    <div class=\"feature\">\\r\\n                                        <span>1</span> Baths\\r\\n                                    </div>\\r\\n                                                            </div>\\r\\n                    </div>\\r\\n                                            <div class=\"mainFeatures row\">\\r\\n\\r\\n                                <div class=\"mainFeatureColumn\">\\r\\n                                        <div class=\"mainFeature row \">Floor Area <span>150&nbsp;m&sup2;</span></div>\\r\\n                                                                            <div class=\"mainFeature row \">Land Area <span>1.3&nbsp;ha</span></div>\\r\\n                                </div>\\r\\n                                                                <div class=\"mainFeatureColumn\">\\r\\n                                            <div class=\"mainFeature row \">Rates <span>R 300</span></div>\\r\\n                                                                            </div>\\r\\n                        </div>\\r\\n\\r\\n                    <div class=\"description\">\\r\\n                        <div class=\"seeMoreContainer\">\\r\\n                            <div id=\"expander\">\\r\\n                                <div id=\"descriptionParagraph\">\\r\\n                                    <p>A historic home in Byrne Valley.</p><p>A chance to own one of the first dwellings ever built in Byrne Valley.  This historic home with wonderful views over the countryside, is set on a manageable 1.3 ha (half a hectare is arable) with two bedrooms, a loft room, lounge, dining room (currently used as another bedroom), kitchen, and one bathroom.  It is constructed of shale with traditionally thick walls, and has a thatched roof with a combination of tiled and wooden floors.</p><p>A wonderful piece of history begging for someone to have the honor of restoring it to the original beauty, and more.  The location is ideal, as it is just outside of the village - which is a beautifully peaceful place as well.</p><p>The nearest town with all amenities is Richmond (17 kms) which has grocery stores, retail stores, food outlets, post office, schools and banks etc.</p>\\r\\n                                </div>\\r\\n                            </div>\\r\\n                            <a href=\"#\" id=\"seeMore\">Read More<span></span></a>\\r\\n                        </div>\\r\\n                    </div>\\r\\n                                            <div class=\"features\">\\r\\n                            <h3>\\r\\n                                Key Property Features\\r\\n                            </h3>\\r\\n                            <div class=\"featureCols\">\\r\\n                                    <div class=\"featuresColumn\">\\r\\n                                        <div class=\"attribute\">\\r\\n                                                <div class=\"propAttrValue blueBack\"><span class=\"text\">1</span></div>\\r\\n                                            <span class=\"attributeLabel\">Bathrooms</span>\\r\\n                                        </div>\\r\\n                                    </div>\\r\\n                                    <div class=\"featuresColumn\">\\r\\n                                        <div class=\"attribute\">\\r\\n                                                <div class=\"propAttrValue blueBack\"><span class=\"text\">2</span></div>\\r\\n                                            <span class=\"attributeLabel\">Bedrooms</span>\\r\\n                                        </div>\\r\\n                                    </div>\\r\\n                                    <div class=\"featuresColumn\">\\r\\n                                        <div class=\"attribute\">\\r\\n                                                <div class=\"propAttrValue blueBack\"><span class=\"text\">1</span></div>\\r\\n                                            <span class=\"attributeLabel\">Dining Areas</span>\\r\\n                                        </div>\\r\\n                                    </div>\\r\\n                                    <div class=\"featuresColumn\">\\r\\n                                        <div class=\"attribute\">\\r\\n                                                <div class=\"propAttrValue blueBack\"><span class=\"text\">1</span></div>\\r\\n                                            <span class=\"attributeLabel\">Lounges</span>\\r\\n                                        </div>\\r\\n                                    </div>\\r\\n                                    <div class=\"featuresColumn\">\\r\\n                                        <div class=\"attribute\">\\r\\n                                                <div class=\"propAttrValue blueBack\"><span class=\"text\">1</span></div>\\r\\n                                            <span class=\"attributeLabel\">Storeys</span>\\r\\n                                        </div>\\r\\n                                    </div>\\r\\n                                    <div class=\"featuresColumn\">\\r\\n                                        <div class=\"attribute\">\\r\\n                                                <div class=\"propAttrValue tick\"></div>\\r\\n                                            <span class=\"attributeLabel\">Fenced</span>\\r\\n                                        </div>\\r\\n                                    </div>\\r\\n                                    <div class=\"featuresColumn\">\\r\\n                                        <div class=\"attribute\">\\r\\n                                                <div class=\"propAttrValue tick\"></div>\\r\\n                                            <span class=\"attributeLabel\">Fireplace</span>\\r\\n                                        </div>\\r\\n                                    </div>\\r\\n                                    <div class=\"featuresColumn\">\\r\\n                                        <div class=\"attribute\">\\r\\n                                                <div class=\"propAttrValue tick\"></div>\\r\\n                                            <span class=\"attributeLabel\">Kitchen</span>\\r\\n                                        </div>\\r\\n                                    </div>\\r\\n                                    <div class=\"featuresColumn\">\\r\\n                                        <div class=\"attribute\">\\r\\n                                                <div class=\"propAttrValue tick\"></div>\\r\\n                                            <span class=\"attributeLabel\">Pets Allowed</span>\\r\\n                                        </div>\\r\\n                                    </div>\\r\\n                                    <div class=\"featuresColumn\">\\r\\n                                        <div class=\"attribute\">\\r\\n                                                <div class=\"propAttrValue tick\"></div>\\r\\n                                            <span class=\"attributeLabel\">Scenic View</span>\\r\\n                                        </div>\\r\\n                                    </div>\\r\\n                            </div>\\r\\n                        </div>\\r\\n                                                                    <p>\\r\\n                                <a href=\"#\" id=\"emailAgentLink\" class=\"actionLink\" data-account-holder-id=\"1887871\" data-r data-ref-tag=\"\">Email the Agent</a>\\r\\n                                    \\r\\n                                        or request the agent\\r\\n                                        <a href=\"#\" id=\"callMeBackLink\" class=\"actionLink\" data-ref-tag=\"\">Call You Back</a>\\r\\n                                should you require any further details.\\r\\n                            </p>\\r\\n\\r\\n                </div>\\r\\n            </div>\\r\\n            <div class=\"topRight\">\\r\\n                <div class=\"rightPositioning\">\\r\\n\\r\\n\\r\\n<div id=contactGallery class=\"detailsContactCard\" style=background-color:#121F49;border-width:1px;border-color:#101B41;color:#fff>\\r\\n        <div class=\"agentDetails swiper-container\" data-bind=\"css:{numbersShown:!showNumbersButton(),showAll:displayAllContacts()}\">\\r\\n            <div class=\"swiper-wrapper\" data-bind=\"foreachInit:{name:\\'contactTemplate\\',data:contactCards}\">\\r\\n\\r\\n                    <div class=\"agent swiper-slide swiper-no-swiping\" data-init>\\r\\n                            <a class=\"imageLink\" data-bind=\"init, attr:{href:agentPageUrl}\" href=\"/estate-agent/vanessa-foxon/1887871/?rt=\">\\r\\n                                <div class=\"agentImage\">\\r\\n                                    <img data-bind=\"init, attr:{src:agentImage, alt:contactName}, event:{error:function(data,event){removeBrokenImage(event);}}\" src=\"https://prppublicstore.blob.core.windows.net/live-za-images/accountholders/1887871/image/633004935ddd4836bf7260c6f162ed43_ach.jpg\" alt=\"Vanessa Foxon\" />\\r\\n                                </div>\\r\\n                            </a>\\r\\n                        <a data-bind=\"init:{contactName:\\'Vanessa Foxon\\', agentPageUrl:\\'/estate-agent/vanessa-foxon/1887871/?rt=\\'}, attr:{href:agentPageUrl}, text:contactName\"\\r\\n                           class=\"contactName\" style=color:#fff;>\\r\\n                            Vanessa Foxon\\r\\n                        </a>\\r\\n                        <div class=\"contactType\" style=color:#fff; data-bind=\"init, text:contactType\">\\r\\n                            Agent\\r\\n                        </div>\\r\\n                        <div class=\"telNos\" data-bind=\"style:{visibility:hasNumbersShown() ? \\'visible\\' : \\'hidden\\'}, foreach:contactNumbers\">\\r\\n                            <div class=\"telNo\">\\r\\n                                <span data-bind=\"text:numberType\" style=color:#fff;></span>\\r\\n                                <a data-bind=\"attr:{href:\\'tel:\\' + phoneNumber.replace(/ /g,\\'\\')}, \\r\\n                                              text:phoneNumber,\\r\\n                                              events:{click:function(data,event){cancelBubbling(event);},\\r\\n                                                      mousedown:function(data,event){cancelBubbling(event);},\\r\\n                                                      mousemove:function(data,event){cancelBubbling(event);}}\" style=color:#fff;></a>\\r\\n                            </div>\\r\\n                        </div>\\r\\n                        <input type=\"hidden\" class=\"contactId\" value=\"1887871\" data-bind=\"init:{convert:parseInt},value:contactId\" />\\r\\n                        <input type=\"hidden\" class=\"showContactNumbers\" value=\"true\"\\r\\n                               data-bind=\"init, {field:canShowNumbers,value:true}, value:canShowNumbers\" />\\r\\n                    </div>\\r\\n            </div>\\r\\n            <div class=\"telNos button\" data-bind=\"css:{hideButton: !showNumbersButton()}\" style=\"display:block;\">\\r\\n                <button type=\"button\" class=\"showTelNos eventShowNumber\" style=background-color:#59627F;border:0;color:#fff data-bind=\"event:{\\r\\n                            click:function(data,event){showNumbers(event);},\\r\\n                            mouseover:function(data,event){showHoverColor(\\'#707891\\',event)},\\r\\n                            mouseout:function(data,event){removeHoverColor(event);}\\r\\n                            }\">\\r\\n                    <svg xmlns=\"http://www.w3.org/2000/svg\" viewBox=\"0 0 20 20\" class=\"phoneIcon\">\\r\\n                        <path d=\"M3.9 3.5l3.8 3.6L6 8.8l0 0c0.5 0.8 1.4 1.8 2.5 2.7 1.1 0.9 2.3 1.6 3.2 1.9l0 0 1.2-2.1 4.4 2.9L15 16.1l0 0c-1.6 0.5-4.7-0.8-7.7-3.1 -3-2.4-4.8-5.1-4.7-6.8l0 0L3.9 3.5z\" fill=\"#fff\"></path>\\r\\n                    </svg>\\r\\n                    Show Phone No.\\r\\n                </button>\\r\\n            </div>\\r\\n        </div>\\r\\n        <div class=\"officeLogo\">\\r\\n            <a href=\"/estate-agency/howick/3787?rt=\">\\r\\n                    <img src=\"https://prppublicstore.blob.core.windows.net/live-za-images/offices/3787/image/ae38b7cec5234f148f4b2b7dd4585543_ola.jpg\" alt=\"Dormehl Property Group-Howick\" />\\r\\n            </a>\\r\\n        </div>\\r\\n\\r\\n</div>\\r\\n\\r\\n<div class=\"contactForm\">\\r\\n    <div class=\"detailsContactFormContainer\">\\r\\n        \\r\\n        <h4>Contact Agent</h4>\\r\\n        <div class=\"formContainer\">\\r\\n            <input data-val=\"true\" data-val-number=\"The field ListingId must be a number.\" id=\"ListingId\" name=\"ListingId\" type=\"hidden\" value=\"2366552\" />\\r\\n            <label>Your Details</label>\\r\\n            <div class=\"editDetails\">\\r\\n                <div class=\"formControl\">\\r\\n                    <input type=\"text\" name=\"Name\" data-bind=\"init, value:name,event:{focus:function(data,event){clearError(\\'name\\',data,event);}}\" placeholder=\"your name\" />\\r\\n                </div>\\r\\n                <div class=\"formControl\">\\r\\n                    <input type=\"email\" name=\"Email\" placeholder=\"your email\" data-bind=\"init, value:email,event:{focus:function(data,event){clearError(\\'email\\',data,event);}}\" />\\r\\n                </div>\\r\\n                <div class=\"formControl\">\\r\\n                    <input type=\"tel\" name=\"MobileNumber\" placeholder=\"your mobile number\" pattern=\"[0-9 ]*\" data-bind=\"init, value:mobileNumber,event:{focus:function(data,event){clearError(\\'mobileNumber\\',data,event);}}\" />\\r\\n                </div>\\r\\n            </div>\\r\\n            <label class=\"messageLabel\" for=\"Message\">your message</label>\\r\\n            <div class=\"formControl\">\\r\\n                <textarea name=\"Message\" data-bind=\"init, value:message,event:{focus:function(data,event){clearError(\\'message\\',data,event);}}\">Please contact me regarding this property.</textarea>\\r\\n            </div>\\r\\n            <div class=\"buttons\">              \\r\\n                \\r\\n                <div class=\"buttonsHolder\" data-bind=\"visible:(!isSending() && !messageSent())\">\\r\\n                    <a href=\"#\" class=\"orangeButton eventEmailSent\" data-bind=\"click:function(data,event){sendMessage(event,\\'Email\\')}\">Email Agent</a>\\r\\n                        <a href=\"#\" class=\"greenButton eventCallMeBack\" data-bind=\"click:function(data,event){sendMessage(event,\\'CallMeBack\\')}\">Call Me Back</a>\\r\\n                </div>\\r\\n                <div class=\"sending\" data-bind=\"visible:isSending()\">Sending Message...</div>\\r\\n                \\r\\n            </div>\\r\\n        </div>\\r\\n    </div>\\r\\n    \\r\\n\\r\\n        <div class=\"termsAndConditions\">By sending, you agree to Private Property\\'s <a href=\"/terms-and-conditions\" target=\"_blank\">terms and conditions</a></div>\\r\\n\\r\\n\\r\\n</div>\\r\\n                </div>\\r\\n            </div>\\r\\n        </div>\\r\\n\\r\\n            <div class=\"hdThumbs\">\\r\\n                <h4>Photo Gallery</h4>\\r\\n                <div class=\"imageGrid wrapper\">\\r\\n\\r\\n                        <a href=\"#mediaGallery\" class=\"gridImage modalLink lazyLoad\" data-media-type=\"image\" data-media-index=\"0\" data-background=\"https://prppublicstore.blob.core.windows.net/live-za-images/property/552/33/2366552/images/property-2366552-66071495_mo.jpg\" style=\"background-image:url(/Content/Portal/images/placeholder/pp-icon-loading-320x200.png);\">\\r\\n                        </a>\\r\\n                        <a href=\"#mediaGallery\" class=\"gridImage modalLink lazyLoad\" data-media-type=\"image\" data-media-index=\"1\" data-background=\"https://prppublicstore.blob.core.windows.net/live-za-images/property/552/33/2366552/images/property-2366552-37461043_mo.jpg\" style=\"background-image:url(/Content/Portal/images/placeholder/pp-icon-loading-320x200.png);\">\\r\\n                        </a>\\r\\n                        <a href=\"#mediaGallery\" class=\"gridImage modalLink lazyLoad\" data-media-type=\"image\" data-media-index=\"2\" data-background=\"https://prppublicstore.blob.core.windows.net/live-za-images/property/552/33/2366552/images/property-2366552-69163842_mo.jpg\" style=\"background-image:url(/Content/Portal/images/placeholder/pp-icon-loading-320x200.png);\">\\r\\n                        </a>\\r\\n                        <a href=\"#mediaGallery\" class=\"gridImage modalLink lazyLoad\" data-media-type=\"image\" data-media-index=\"3\" data-background=\"https://prppublicstore.blob.core.windows.net/live-za-images/property/552/33/2366552/images/property-2366552-90390915_mo.jpg\" style=\"background-image:url(/Content/Portal/images/placeholder/pp-icon-loading-320x200.png);\">\\r\\n                        </a>\\r\\n                        <a href=\"#mediaGallery\" class=\"gridImage modalLink lazyLoad\" data-media-type=\"image\" data-media-index=\"4\" data-background=\"https://prppublicstore.blob.core.windows.net/live-za-images/property/552/33/2366552/images/property-2366552-60680521_mo.jpg\" style=\"background-image:url(/Content/Portal/images/placeholder/pp-icon-loading-320x200.png);\">\\r\\n                        </a>\\r\\n                    \\r\\n\\r\\n\\r\\n\\r\\n                                        \\r\\n    <div id=\"miniContactCard\" class=\"miniContactCard swiper-container\" style=border-color:#121F49;>\\r\\n        <div class=\"swiper-wrapper\">\\r\\n                    <div class=\"swiper-slide\">\\r\\n                        <div class=\"agentImage\">\\r\\n                            <img src=\"https://prppublicstore.blob.core.windows.net/live-za-images/accountholders/1887871/image/633004935ddd4836bf7260c6f162ed43_ach.jpg\" alt=\"Vanessa Foxon\" />\\r\\n                        </div>\\r\\n                        <div class=\"agentName\">\\r\\n                            <p>Vanessa</p>\\r\\n                            <p>Foxon </p>\\r\\n                        </div>\\r\\n                    </div>\\r\\n        </div>\\r\\n            <button class=\"orangeButton \" id=\"miniContactCardButton\" data-account-holder-id=\"1887871\" data-ref-tag=\"\">Contact Agent</button>\\r\\n    </div>\\r\\n\\r\\n                </div>\\r\\n            </div>\\r\\n    </div>\\r\\n<div class=\"contentWhite bandMediumPadding\"><div id=\"\" class=\"wrapper row\">            <h2>Share this Property</h2>\\r\\n            <div class=\"shareListing row sales\">\\r\\n                <a class=\"actionLink modalLink email\" href=\"#shareListing\" data-portalref=\"T479322\">&nbsp;</a>\\r\\n\\r\\n    <div class=\"socicons\">\\r\\n            <a target=\"_blank\" class=\"facebook\" href=\"https://www.facebook.com/sharer/sharer.php?u=https%3a%2f%2fwww.privateproperty.co.za%2ffor-sale%2fkwazulu-natal%2fdrakensberg%2frichmond-and-surrounds%2fbyrne-valley%2fT479322%3f%26rt%3dfacebook&title=Explore+this+property+1.3+ha+farm+in+Byrne+Valley\"></a>\\r\\n            <a target=\"_blank\" class=\"twitter\" href=\"https://twitter.com/intent/tweet?text=Explore+this+property+1.3+ha+farm+in+Byrne+Valley+https%3a%2f%2fwww.privateproperty.co.za%2ffor-sale%2fkwazulu-natal%2fdrakensberg%2frichmond-and-surrounds%2fbyrne-valley%2fT479322%3f%26rt%3dtwitter+%40propertysa\"></a>\\r\\n            <a target=\"_blank\" class=\"googlePlus\" href=\"https://plus.google.com/share?url=https%3a%2f%2fwww.privateproperty.co.za%2ffor-sale%2fkwazulu-natal%2fdrakensberg%2frichmond-and-surrounds%2fbyrne-valley%2fT479322%3f%26rt%3dgoogleplus\"></a>\\r\\n                <a target=\"_blank\" href=\"https://pinterest.com/pin/create/bookmarklet/?media=https%3a%2f%2fprppublicstore.blob.core.windows.net%2flive-za-images%2fproperty%2f552%2f33%2f2366552%2fimages%2fproperty-2366552-66071495_sd.jpg&url=https%3a%2f%2fwww.privateproperty.co.za%2ffor-sale%2fkwazulu-natal%2fdrakensberg%2frichmond-and-surrounds%2fbyrne-valley%2fT479322%3f%26rt%3dpinterest&is_video=false&description=Explore+this+property+1.3+ha+farm+in+Byrne+Valley\" class=\"pintrest\"></a>\\r\\n    </div>\\r\\n\\r\\n\\r\\n            </div>\\r\\n</div></div>                <div class=\"contentGrey9 bandMediumPadding keyline\">\\r\\n                <div id=\"bondCalculatorAnchor\"></div>\\r\\n                <div class=\"wrapper row\">\\r\\n                    <h2>Need a Home Loan?</h2>\\r\\n\\r\\n<div class=\"calculatorContainer bondCalculator\">\\r\\n    <div class=\"row\">\\r\\n        <div class=\"formFields width50\">\\r\\n<form Class=\"bondFormContainer\" action=\"/Portal/Calculators/BondCalculator?purchasePrice=1200000\" id=\"bondCalculatorForm\" method=\"post\">                <div class=\"formControl\">\\r\\n                    <div class=\"label positionLeft\">\\r\\n                        <label for=\"PurchasePrice\">Purchase Price</label>\\r\\n                    </div>\\r\\n                    <div class=\"control\">\\r\\n                        <span class=\"prefix\">R</span>\\r\\n                        <input autocapitalize=\"off\" autocomplete=\"off\" autocorrect=\"off\" class=\"calcValue calcField\" data-val=\"true\" data-val-length=\"Max length 12 characters\" data-val-length-max=\"12\" data-val-number=\"The field Purchase Price must be a number.\" data-val-required=\"Please enter the Purchase Price.\" id=\"PurchasePrice\" maxlength=\"12\" name=\"PurchasePrice\" novalidate=\"novalidate\" pattern=\"^\\\\d([\\\\s]*\\\\d){1,22}$\" type=\"number\" value=\"700000\" />\\r\\n                    </div>\\r\\n                </div>\\r\\n                <div class=\"formControl\">\\r\\n                    <div class=\"label positionLeft\">\\r\\n                        <label for=\"DepositAmount\">Deposit Amount</label>\\r\\n                    </div>\\r\\n                    <div class=\"control\">\\r\\n                        <span class=\"prefix\">R</span>\\r\\n                        <input autocapitalize=\"off\" autocomplete=\"off\" autocorrect=\"off\" class=\"calcValue calcField\" data-val=\"true\" data-val-length=\"Max length 12 characters\" data-val-length-max=\"12\" data-val-number=\"The field Deposit Amount must be a number.\" id=\"DepositAmount\" maxlength=\"12\" name=\"DepositAmount\" novalidate=\"novalidate\" pattern=\"^\\\\d([\\\\s]*\\\\d){1,22}$\" placeholder=\"70000\" type=\"number\" value=\"\" />\\r\\n                        <input data-val=\"true\" data-val-number=\"The field DefaultDepositAmount must be a number.\" id=\"DefaultDepositAmount\" name=\"DefaultDepositAmount\" type=\"hidden\" value=\"70000\" />\\r\\n                    </div>\\r\\n                </div>\\r\\n                <div class=\"formControl\">\\r\\n                    <div class=\"label positionLeft\">\\r\\n                        <label for=\"InterestRate\">Interest Rate</label> *\\r\\n                    </div>\\r\\n                    <div class=\"control\">\\r\\n                        <span class=\"prefix\"></span>\\r\\n                        <input autocapitalize=\"off\" autocomplete=\"off\" autocorrect=\"off\" class=\"calcInterest calcField\" data-val=\"true\" data-val-number=\"The field Interest Rate must be a number.\" data-val-required=\"Please enter in the Interest Rate.\" id=\"InterestRate\" name=\"InterestRate\" novalidate=\"novalidate\" pattern=\"\\\\d+(\\\\.\\\\d*)?\" type=\"text\" value=\"10.25\" />\\r\\n                        <span class=\"suffix\">%</span>\\r\\n                    </div>\\r\\n                </div>\\r\\n                <div id=\"years\" class=\"years section checkboxButtonContainer\">\\r\\n                    <div class=\"sectionLabel\">Number of Years</div>\\r\\n                            <input class=\"buttonCheckbox\" type=\"radio\" id=\"years_5\" name=\"TermInYears\" value=\"5\"  />\\r\\n                            <label for=\"years_5\">\\r\\n                                    5\\r\\n                            </label>\\r\\n                            <input class=\"buttonCheckbox\" type=\"radio\" id=\"years_10\" name=\"TermInYears\" value=\"10\"  />\\r\\n                            <label for=\"years_10\">\\r\\n                                    10\\r\\n                            </label>\\r\\n                            <input class=\"buttonCheckbox\" type=\"radio\" id=\"years_15\" name=\"TermInYears\" value=\"15\"  />\\r\\n                            <label for=\"years_15\">\\r\\n                                    15\\r\\n                            </label>\\r\\n                            <input class=\"buttonCheckbox\" type=\"radio\" id=\"years_20\" name=\"TermInYears\" value=\"20\" checked=checked />\\r\\n                            <label for=\"years_20\">\\r\\n                                    20\\r\\n                            </label>\\r\\n                            <input class=\"buttonCheckbox\" type=\"radio\" id=\"years_25\" name=\"TermInYears\" value=\"25\"  />\\r\\n                            <label for=\"years_25\">\\r\\n                                    25\\r\\n                            </label>\\r\\n                            <input class=\"buttonCheckbox\" type=\"radio\" id=\"years_30\" name=\"TermInYears\" value=\"30\"  />\\r\\n                            <label for=\"years_30\">\\r\\n                                    30+\\r\\n                            </label>\\r\\n\\r\\n                </div>\\r\\n                <div class=\"errorMessage\" id=\"errorMessage\">&nbsp;</div>\\r\\n                <div class=\"formSubmit\">\\r\\n                    <button type=\"button\" id=\"calculateButton\" class=\"calculateButton\" data-view=\"Details\">Calculate</button>\\r\\n                </div>\\r\\n                <div id=\"formSubmitting\" style=\"display: none;\">\\r\\n                    <span>Calculating result... </span>\\r\\n                </div>\\r\\n</form>        </div>\\r\\n        <div class=\"formResults hideContainer width50\">\\r\\n            <div class=\"formResultContainer\">\\r\\n                <div class=\"resultContent\">\\r\\n                    <div id=\"monthlyPaymentLabel\" class=\"label\">Monthly Repayment</div>\\r\\n                    <div id=\"monthlyPayment\" class=\"value sponsoredColour\">\\r\\n                        <span class=\"tableCell\">R <span id=\"monthlyPaymentValue\">0</span></span>\\r\\n                            <a class=\"modalLink\" href=\"#affordabilityCalc\" data-mortgage-banner-type=\"Ooba\" data-rt=\"listing_bondcalc\">Can I afford this?</a>\\r\\n                    </div>\\r\\n                    <hr />\\r\\n                    <table id=\"resultsTable\" class=\"formResultContainer\">\\r\\n                        <tr>\\r\\n                            <td class=\"leftResultColumn label\">Loan Value (Capital)</td>\\r\\n                            <td class=\"rightResultColumn sponsoredColour\">R <span id=\"loanValueFormatted\">0</span></td>\\r\\n                        </tr>\\r\\n                        <tr>\\r\\n                            <td class=\"leftResultColumn label\">Total Interest</td>\\r\\n                            <td class=\"rightResultColumn sponsoredColour\">R <span id=\"totalInterestFormatted\">0</span></td>\\r\\n                        </tr>\\r\\n                        <tr class=\"total\">\\r\\n                            <td class=\"leftResultColumn label\">Total Repayment</td>\\r\\n                            <td class=\"rightResultColumn sponsoredColour totalCell\">\\r\\n                                R <span id=\"totalRepaymentsFormatted\">0</span>\\r\\n                            </td>\\r\\n                        </tr>\\r\\n\\r\\n                    </table>\\r\\n                    <div id=\"interestSummary\" class=\"interest\">\\r\\n                        Interest at <span id=\"interestRateValue\" class=\"subvalue sponsoredColour\">10.25</span><span class=\"subvalue sponsoredColour\">%</span> for <span id=\"termInYearsValue\" class=\"subvalue sponsoredColour\">20</span> years\\r\\n                    </div>\\r\\n                </div>\\r\\n            </div>\\r\\n\\r\\n                    <a id=\"applyForHomeLoan\" href=\"#moDialog\" class=\"applyForHomeLoan modalLink\" data-mortgage-originator=\"Ooba\" data-lead-source=\"ListingBillboard\" data-listing-id=\"2366552\" data-view=\"Details\">\\r\\n                        Apply for pre-approval\\r\\n                    </a>\\r\\n\\r\\n            <button type=\"button\" id=\"reCalculateButton\" class=\"reCalculateButton\" data-view=\"Details\">Re-calculate</button>\\r\\n        </div>\\r\\n    </div>\\r\\n    <div class=\"row\">\\r\\n    </div>\\r\\n    <div class=\"row\">\\r\\n        <div class=\"disclaimer width100\">\\r\\n            * The interest rate is by default set to the prime lending rate. Banking institutions may choose to lend to individuals at a rate above or below this prime rate.\\r\\n        </div>\\r\\n    </div>\\r\\n</div>\\r\\n\\r\\n                </div>\\r\\n            </div>\\r\\n        \\r\\n    <div id=\"videoDialogTemplate\" style=\"display: none;\">\\r\\n<div id=\"modalHeader\">\\r\\n    \\r\\n    <h2></h2>\\r\\n    <a href=\"#\" id=\"dialogClose\" class=\"closeModal\"></a>\\r\\n</div>\\r\\n\\r\\n<div id=\"modalContents\">\\r\\n    \\r\\n\\r\\n<div class=\"videoContainer\">\\r\\n    <iframe scolling=\"never\"\\r\\n            data-src=\"\"\\r\\n            id=\"mediaIFrame\"\\r\\n            allowfullscreen=\"true\"></iframe>\\r\\n</div>\\r\\n\\r\\n</div>\\r\\n    </div>\\r\\n\\r\\n\\r\\n<div class=\"contentWhite bandStandardPadding\"><div id=\"salesListings\" class=\"wrapper row\">            <div class=\"listingDeck\">\\r\\n                <h2>Similar Property for Sale in Byrne Valley</h2>\\r\\n\\r\\n                <div class=\"listingsBox\">\\r\\n\\r\\n<a  href=\"/for-sale/kwazulu-natal/drakensberg/richmond-and-surrounds/byrne-valley/T764620?rt=Listing_SimilarProperty\" class=\"neighbourhoodListingCard materialCard\">\\r\\n\\r\\n    <div class=\"imageContainer\">\\r\\n        <img class=\"image lazyLoad\" src=\"/Content/Portal/images/placeholder/pp-icon-loading-320x200.png\" alt=\"8.1 ha farm in Byrne Valley\" data-original=\"https://prppublicstore.blob.core.windows.net/live-za-images/property/1465/44/2789465/images/property-2789465-90957597_mo.jpg\"/>\\r\\n\\r\\n        <div class=\"priceContainer\">\\r\\n            <span class=\"price\">R 630 000</span>\\r\\n        </div>\\r\\n    </div>\\r\\n\\r\\n    <div class=\"informationContainer\">\\r\\n        <div class=\"title\">8.1 ha farm in Byrne Valley</div>\\r\\n        <div class=\"features\">\\r\\n            <div class=\"numberOfBeds\">2 <div class=\"icon bedIcon\"></div> </div>\\r\\n            <div class=\"numberOfBaths\">2 <div class=\"icon bathIcon\"></div> </div>\\r\\n            <div class=\"numberOfParking\">1 <div class=\"icon parkingIcon\"></div> </div>\\r\\n        </div>\\r\\n    </div>\\r\\n</a>\\r\\n<a  href=\"/for-sale/kwazulu-natal/drakensberg/richmond-and-surrounds/byrne-valley/T709644?rt=Listing_SimilarProperty\" class=\"neighbourhoodListingCard materialCard\">\\r\\n\\r\\n    <div class=\"imageContainer\">\\r\\n        <img class=\"image lazyLoad\" src=\"/Content/Portal/images/placeholder/pp-icon-loading-320x200.png\" alt=\"5 Bedroom House in Byrne Valley\" data-original=\"https://prppublicstore.blob.core.windows.net/live-za-images/property/1369/3/2707369/images/property-2707369-42804060_mo.jpg\"/>\\r\\n\\r\\n        <div class=\"priceContainer\">\\r\\n            <span class=\"price\">R 695 000</span>\\r\\n        </div>\\r\\n    </div>\\r\\n\\r\\n    <div class=\"informationContainer\">\\r\\n        <div class=\"title\">5 Bedroom House in Byrne Valley</div>\\r\\n        <div class=\"features\">\\r\\n            <div class=\"numberOfBeds\">5 <div class=\"icon bedIcon\"></div> </div>\\r\\n            <div class=\"numberOfBaths\">3 <div class=\"icon bathIcon\"></div> </div>\\r\\n            <div class=\"numberOfParking\">0 <div class=\"icon parkingIcon\"></div> </div>\\r\\n        </div>\\r\\n    </div>\\r\\n</a>\\r\\n                </div>\\r\\n            </div>\\r\\n</div></div>\\r\\n<div class=\"contentGrey9 bandMediumPadding\"><div id=\"salesListings\" class=\"wrapper row\">            <div class=\"additionalLinks\">\\r\\n\\r\\n                <div class=\"row\">\\r\\n                    <ul>\\r\\n                                <li>\\r\\n                                    <a href=\"#listingScore\" id=\"listingScore\" data-portalref=\"T479322\" class=\"modalLink\">\\r\\n                                        View property score\\r\\n                                    </a>\\r\\n                                </li>\\r\\n                                <li class=\"bullet\">&bull;</li>\\r\\n                        <li>\\r\\n                                    <a class=\"printListing\" href=\"/Portal/Listing/DetailsPrint?portalRef=T479322\" target=\"_blank\" title=\"\">Print property details</a>\\r\\n\\r\\n                        </li>\\r\\n                        <li class=\"bullet\">&bull;</li>\\r\\n                        <li>\\r\\n                            <a id=\"reportListing\" href=\"#reportListing\" data-portalref=\"T479322\" class=\"modalLink\">\\r\\n                                Report this property\\r\\n                            </a>\\r\\n                        </li>\\r\\n                        <li class=\"bullet\">&bull;</li>\\r\\n                        <li>\\r\\n                            <span class=\"footerRef\">Ref: T479322</span>\\r\\n                        </li>\\r\\n\\r\\n                    </ul>\\r\\n                </div>\\r\\n            </div>\\r\\n</div></div>\\r\\n\\r\\n    \\r\\n\\r\\n</div>\\r\\n\\r\\n\\r\\n\\r\\n\\r\\n\\r\\n\\r\\n\\r\\n\\r\\n\\r\\n\\r\\n<div id=\"listingDetailsGallery\" class=\"superMediaViewer\" data-bind=\"css:{show:isShown()}\">\\r\\n        <div class=\"mediaSelector\">\\r\\n            <div class=\"listingTitle\">\\r\\n                <p>1.3 ha farm in Byrne Valley</p>\\r\\n                <p class=\"priceInfo\">\\r\\n\\r\\n                            <span class=\"detailsCurrencySymbol\">R</span>\\r\\n                        <span class=\"detailsPrice\">700 000</span>\\r\\n                    \\r\\n                                    </p>\\r\\n            </div>\\r\\n            <div class=\"mediaButtons\">\\r\\n               \\r\\n                <a class=\"mediaPhotos\" data-bind=\"click:function(){changeMedia(\\'image\\')},css:{selected:(currentMedia() === \\'image\\' || currentMedia() === \\'contact\\' \\r\\n                   || currentMedia() === \\'mo\\')}\">Photos <span>5</span></a>\\r\\n                \\r\\n                                                \\r\\n\\r\\n\\r\\n            </div>\\r\\n            <div class=\"contactAgent\">\\r\\n                <button class=\"orangeButton\" data-bind=\"click:function(data, e) {showContactAgentSlide(e);}\">Contact Agent</button>\\r\\n                <div id=\"galleryWishlist\">\\r\\n                </div>\\r\\n                <a class=\"closeButton\" data-bind=\"click:function(data,e){e.preventDefault();closeGallery();}\"></a>\\r\\n            </div>\\r\\n        </div>\\r\\n    <div class=\"mediaContainer\">\\r\\n        <div class=\"modalGalleryBackdrop\" data-bind=\"visible:(currentMedia() !== \\'map\\')\">\\r\\n            <div class=\"swiper-container\" id=\"modalGallery\">\\r\\n                <div class=\"swiper-wrapper\" data-bind=\"foreachInit:{ name: \\'slideTemplate\\', data: slides }\">\\r\\n\\r\\n                        <div class=\"swiper-slide swiper-no-swiping gallerySlide\"\\r\\n                             data-init data-bind=\"init:{index:0},click:function(data,event){$parent.changeSlides(event)}\">\\r\\n                            <img class=\"swiper-lazy slideImage sd\" data-src=\"https://prppublicstore.blob.core.windows.net/live-za-images/property/552/33/2366552/images/property-2366552-66071495_sd.jpg\" alt=\"1.3 ha farm in Byrne Valley photo number 1\"\\r\\n                                     data-init\\r\\n                                     data-bind=\"init:{mediaType:\\'image\\',mediaUrl:\\'https://prppublicstore.blob.core.windows.net/live-za-images/property/552/33/2366552/images/property-2366552-66071495_sd.jpg\\', title:\\'1.3 ha farm in Byrne Valley photo number 1\\'}, attr:{\\'data-src\\':mediaUrl, alt:title}\"\\r\\n                                 src=\"/Content/Portal/Images/placeholder/pp-icon-loading-600x450.png\" />\\r\\n                                <div class=\"swiper-lazy-preloader swiper-lazy-preloader-black\"></div>\\r\\n                        </div>\\r\\n                        <div class=\"swiper-slide swiper-no-swiping gallerySlide\"\\r\\n                             data-init data-bind=\"init:{index:1},click:function(data,event){$parent.changeSlides(event)}\">\\r\\n                            <img class=\"swiper-lazy slideImage sd\" data-src=\"https://prppublicstore.blob.core.windows.net/live-za-images/property/552/33/2366552/images/property-2366552-37461043_sd.jpg\" alt=\"1.3 ha farm in Byrne Valley photo number 2\"\\r\\n                                     data-init\\r\\n                                     data-bind=\"init:{mediaType:\\'image\\',mediaUrl:\\'https://prppublicstore.blob.core.windows.net/live-za-images/property/552/33/2366552/images/property-2366552-37461043_sd.jpg\\', title:\\'1.3 ha farm in Byrne Valley photo number 2\\'}, attr:{\\'data-src\\':mediaUrl, alt:title}\"\\r\\n                                 src=\"/Content/Portal/Images/placeholder/pp-icon-loading-600x450.png\" />\\r\\n                                <div class=\"swiper-lazy-preloader swiper-lazy-preloader-black\"></div>\\r\\n                        </div>\\r\\n                        <div class=\"swiper-slide swiper-no-swiping gallerySlide\"\\r\\n                             data-init data-bind=\"init:{index:2},click:function(data,event){$parent.changeSlides(event)}\">\\r\\n                            <img class=\"swiper-lazy slideImage sd\" data-src=\"https://prppublicstore.blob.core.windows.net/live-za-images/property/552/33/2366552/images/property-2366552-69163842_sd.jpg\" alt=\"1.3 ha farm in Byrne Valley photo number 3\"\\r\\n                                     data-init\\r\\n                                     data-bind=\"init:{mediaType:\\'image\\',mediaUrl:\\'https://prppublicstore.blob.core.windows.net/live-za-images/property/552/33/2366552/images/property-2366552-69163842_sd.jpg\\', title:\\'1.3 ha farm in Byrne Valley photo number 3\\'}, attr:{\\'data-src\\':mediaUrl, alt:title}\"\\r\\n                                 src=\"/Content/Portal/Images/placeholder/pp-icon-loading-600x450.png\" />\\r\\n                                <div class=\"swiper-lazy-preloader swiper-lazy-preloader-black\"></div>\\r\\n                        </div>\\r\\n                        <div class=\"swiper-slide swiper-no-swiping gallerySlide\"\\r\\n                             data-init data-bind=\"init:{index:3},click:function(data,event){$parent.changeSlides(event)}\">\\r\\n                            <img class=\"swiper-lazy slideImage sd\" data-src=\"https://prppublicstore.blob.core.windows.net/live-za-images/property/552/33/2366552/images/property-2366552-90390915_sd.jpg\" alt=\"1.3 ha farm in Byrne Valley photo number 4\"\\r\\n                                     data-init\\r\\n                                     data-bind=\"init:{mediaType:\\'image\\',mediaUrl:\\'https://prppublicstore.blob.core.windows.net/live-za-images/property/552/33/2366552/images/property-2366552-90390915_sd.jpg\\', title:\\'1.3 ha farm in Byrne Valley photo number 4\\'}, attr:{\\'data-src\\':mediaUrl, alt:title}\"\\r\\n                                 src=\"/Content/Portal/Images/placeholder/pp-icon-loading-600x450.png\" />\\r\\n                                <div class=\"swiper-lazy-preloader swiper-lazy-preloader-black\"></div>\\r\\n                        </div>\\r\\n                        <div class=\"swiper-slide swiper-no-swiping gallerySlide\"\\r\\n                             data-init data-bind=\"init:{index:4},click:function(data,event){$parent.changeSlides(event)}\">\\r\\n                            <img class=\"swiper-lazy slideImage sd\" data-src=\"https://prppublicstore.blob.core.windows.net/live-za-images/property/552/33/2366552/images/property-2366552-60680521_sd.jpg\" alt=\"1.3 ha farm in Byrne Valley photo number 5\"\\r\\n                                     data-init\\r\\n                                     data-bind=\"init:{mediaType:\\'image\\',mediaUrl:\\'https://prppublicstore.blob.core.windows.net/live-za-images/property/552/33/2366552/images/property-2366552-60680521_sd.jpg\\', title:\\'1.3 ha farm in Byrne Valley photo number 5\\'}, attr:{\\'data-src\\':mediaUrl, alt:title}\"\\r\\n                                 src=\"/Content/Portal/Images/placeholder/pp-icon-loading-600x450.png\" />\\r\\n                                <div class=\"swiper-lazy-preloader swiper-lazy-preloader-black\"></div>\\r\\n                        </div>\\r\\n                                            <div class=\"swiper-slide gallerySlide swiper-no-swiping\"\\r\\n                             data-init data-bind=\"init:{index:5},click:function(data,event){$parent.changeSlides(event)}\">\\r\\n                            <div data-init\\r\\n                                 data-bind=\"init:{mediaType:\\'contact\\'}\">\\r\\n<div class=\"contactSlide\">\\r\\n    <div class=\"row\">\\r\\n        <div class=\"width50\" data-bind=\"stopBindings:true\">\\r\\n\\r\\n\\r\\n<div  class=\"detailsContactCard\" style=background-color:#121F49;border-width:1px;border-color:#101B41;color:#fff>\\r\\n        <div class=\"agentDetails swiper-container\" data-bind=\"css:{numbersShown:!showNumbersButton(),showAll:displayAllContacts()}\">\\r\\n            <div class=\"swiper-wrapper\" data-bind=\"foreachInit:{name:\\'contactTemplate\\',data:contactCards}\">\\r\\n\\r\\n                    <div class=\"agent swiper-slide swiper-no-swiping\" data-init>\\r\\n                            <a class=\"imageLink\" data-bind=\"init, attr:{href:agentPageUrl}\" href=\"/estate-agent/vanessa-foxon/1887871/?rt=\">\\r\\n                                <div class=\"agentImage\">\\r\\n                                    <img data-bind=\"init, attr:{src:agentImage, alt:contactName}, event:{error:function(data,event){removeBrokenImage(event);}}\" src=\"https://prppublicstore.blob.core.windows.net/live-za-images/accountholders/1887871/image/633004935ddd4836bf7260c6f162ed43_ach.jpg\" alt=\"Vanessa Foxon\" />\\r\\n                                </div>\\r\\n                            </a>\\r\\n                        <a data-bind=\"init:{contactName:\\'Vanessa Foxon\\', agentPageUrl:\\'/estate-agent/vanessa-foxon/1887871/?rt=\\'}, attr:{href:agentPageUrl}, text:contactName\"\\r\\n                           class=\"contactName\" style=color:#fff;>\\r\\n                            Vanessa Foxon\\r\\n                        </a>\\r\\n                        <div class=\"contactType\" style=color:#fff; data-bind=\"init, text:contactType\">\\r\\n                            Agent\\r\\n                        </div>\\r\\n                        <div class=\"telNos\" data-bind=\"style:{visibility:hasNumbersShown() ? \\'visible\\' : \\'hidden\\'}, foreach:contactNumbers\">\\r\\n                            <div class=\"telNo\">\\r\\n                                <span data-bind=\"text:numberType\" style=color:#fff;></span>\\r\\n                                <a data-bind=\"attr:{href:\\'tel:\\' + phoneNumber.replace(/ /g,\\'\\')}, \\r\\n                                              text:phoneNumber,\\r\\n                                              events:{click:function(data,event){cancelBubbling(event);},\\r\\n                                                      mousedown:function(data,event){cancelBubbling(event);},\\r\\n                                                      mousemove:function(data,event){cancelBubbling(event);}}\" style=color:#fff;></a>\\r\\n                            </div>\\r\\n                        </div>\\r\\n                        <input type=\"hidden\" class=\"contactId\" value=\"1887871\" data-bind=\"init:{convert:parseInt},value:contactId\" />\\r\\n                        <input type=\"hidden\" class=\"showContactNumbers\" value=\"true\"\\r\\n                               data-bind=\"init, {field:canShowNumbers,value:true}, value:canShowNumbers\" />\\r\\n                    </div>\\r\\n            </div>\\r\\n            <div class=\"telNos button\" data-bind=\"css:{hideButton: !showNumbersButton()}\" style=\"display:block;\">\\r\\n                <button type=\"button\" class=\"showTelNos eventShowNumber\" style=background-color:#59627F;border:0;color:#fff data-bind=\"event:{\\r\\n                            click:function(data,event){showNumbers(event);},\\r\\n                            mouseover:function(data,event){showHoverColor(\\'#707891\\',event)},\\r\\n                            mouseout:function(data,event){removeHoverColor(event);}\\r\\n                            }\">\\r\\n                    <svg xmlns=\"http://www.w3.org/2000/svg\" viewBox=\"0 0 20 20\" class=\"phoneIcon\">\\r\\n                        <path d=\"M3.9 3.5l3.8 3.6L6 8.8l0 0c0.5 0.8 1.4 1.8 2.5 2.7 1.1 0.9 2.3 1.6 3.2 1.9l0 0 1.2-2.1 4.4 2.9L15 16.1l0 0c-1.6 0.5-4.7-0.8-7.7-3.1 -3-2.4-4.8-5.1-4.7-6.8l0 0L3.9 3.5z\" fill=\"#fff\"></path>\\r\\n                    </svg>\\r\\n                    Show Phone No.\\r\\n                </button>\\r\\n            </div>\\r\\n        </div>\\r\\n        <div class=\"officeLogo\">\\r\\n            <a href=\"/estate-agency/howick/3787?rt=\">\\r\\n                    <img src=\"https://prppublicstore.blob.core.windows.net/live-za-images/offices/3787/image/ae38b7cec5234f148f4b2b7dd4585543_ola.jpg\" alt=\"Dormehl Property Group-Howick\" />\\r\\n            </a>\\r\\n        </div>\\r\\n\\r\\n</div>\\r\\n\\r\\n        </div>\\r\\n        <div class=\"width50\" data-bind=\"stopBindings:true\">\\r\\n\\r\\n<div class=\"contactForm\">\\r\\n    <div class=\"detailsContactFormContainer\">\\r\\n        \\r\\n        <h4>Contact Agent</h4>\\r\\n        <div class=\"formContainer\">\\r\\n            <input data-val=\"true\" data-val-number=\"The field ListingId must be a number.\" id=\"ListingId\" name=\"ListingId\" type=\"hidden\" value=\"2366552\" />\\r\\n            <label>Your Details</label>\\r\\n            <div class=\"editDetails\">\\r\\n                <div class=\"formControl\">\\r\\n                    <input type=\"text\" name=\"Name\" data-bind=\"init, value:name,event:{focus:function(data,event){clearError(\\'name\\',data,event);}}\" placeholder=\"your name\" />\\r\\n                </div>\\r\\n                <div class=\"formControl\">\\r\\n                    <input type=\"email\" name=\"Email\" placeholder=\"your email\" data-bind=\"init, value:email,event:{focus:function(data,event){clearError(\\'email\\',data,event);}}\" />\\r\\n                </div>\\r\\n                <div class=\"formControl\">\\r\\n                    <input type=\"tel\" name=\"MobileNumber\" placeholder=\"your mobile number\" pattern=\"[0-9 ]*\" data-bind=\"init, value:mobileNumber,event:{focus:function(data,event){clearError(\\'mobileNumber\\',data,event);}}\" />\\r\\n                </div>\\r\\n            </div>\\r\\n            <label class=\"messageLabel\" for=\"Message\">your message</label>\\r\\n            <div class=\"formControl\">\\r\\n                <textarea name=\"Message\" data-bind=\"init, value:message,event:{focus:function(data,event){clearError(\\'message\\',data,event);}}\">Please contact me regarding this property.</textarea>\\r\\n            </div>\\r\\n            <div class=\"buttons\">              \\r\\n                \\r\\n                <div class=\"buttonsHolder\" data-bind=\"visible:(!isSending() && !messageSent())\">\\r\\n                    <a href=\"#\" class=\"orangeButton eventEmailSent\" data-bind=\"click:function(data,event){sendMessage(event,\\'Email\\')}\">Email Agent</a>\\r\\n                        <a href=\"#\" class=\"greenButton eventCallMeBack\" data-bind=\"click:function(data,event){sendMessage(event,\\'CallMeBack\\')}\">Call Me Back</a>\\r\\n                </div>\\r\\n                <div class=\"sending\" data-bind=\"visible:isSending()\">Sending Message...</div>\\r\\n                \\r\\n            </div>\\r\\n        </div>\\r\\n    </div>\\r\\n    \\r\\n\\r\\n        <div class=\"termsAndConditions\">By sending, you agree to Private Property\\'s <a href=\"/terms-and-conditions\" target=\"_blank\">terms and conditions</a></div>\\r\\n\\r\\n\\r\\n</div>\\r\\n\\r\\n        </div>\\r\\n    </div>\\r\\n</div>\\r\\n\\r\\n                            </div>\\r\\n                        </div>\\r\\n                                                <div class=\"swiper-slide swiper-no-swiping gallerySlide\" data-init\\r\\n                                 data-bind=\"init:{index:6},click:function(data,event){$parent.changeSlides(event)}\">\\r\\n                                <div data-init\\r\\n                                     data-bind=\"init:{mediaType:\\'mo\\'}\">\\r\\n                                 \\r\\n<div class=\"mortgageOriginatorSlide mo\" data-advert-id=\"1\" data-bind=\"stopBindings:true\">\\r\\n    <h4>Need a Home Loan?</h4>\\r\\n    <div class=\"row slideContents\">\\r\\n        <div class=\"width100\">\\r\\n            <div class=\"moForm slideForm\">\\r\\n                \\r\\n                                    <h5>Contact an <strong>ooba Home Loans</strong> Consultant</h5>\\r\\n\\r\\n                <fieldset>\\r\\n                    <legend>Your Details</legend>\\r\\n                    <div class=\"formControl\">\\r\\n                        <input name=\"name\" id=\"name\" placeholder=\"your name\" data-bind=\"init, value:name, event:{focus:function(data,event){clearError(\\'name\\',data,event);}}\"/>\\r\\n                    </div>\\r\\n                    <div class=\"formControl\">\\r\\n                        <input name=\"mail\" id=\"email\" placeholder=\"your email\" data-bind=\"init, value:email, event:{focus:function(data,event){clearError(\\'email\\',data,event);}}\"/>\\r\\n                    </div>\\r\\n                    <div class=\"formControl\">\\r\\n                        <input name=\"mobileNumber\" id=\"mobileNumber\" placeholder=\"your mobile number\" data-bind=\"init, value:mobileNumber, event:{focus:function(data,event){clearError(\\'mobileNumber\\',data,event);}}\"/>\\r\\n                    </div>\\r\\n                    <div class=\"buttons\">\\r\\n                        <button class=\"orangeButton\" data-bind=\"click:function(data,event){submitForm(event);}, visible:(!isSending() && !messageSent())\">Apply for a Home Loan</button>\\r\\n                        <div class=\"messageSending\" data-bind=\"visible:isSending()\">Sending message...</div>\\r\\n                    </div>\\r\\n                </fieldset>\\r\\n                \\r\\n     \\r\\n                \\r\\n                    <a class=\"findOutMore\" href=\"/ooba\" target=\"_blank\">Find out more about <strong>ooba\\'s financial services</strong></a>\\r\\n     \\r\\n\\r\\n            </div>\\r\\n        </div>\\r\\n    </div>\\r\\n</div>\\r\\n\\r\\n\\r\\n\\r\\n                                </div>\\r\\n                            </div>\\r\\n                </div>\\r\\n            </div>\\r\\n                <div class=\"swiper-button-prev photoGalleryButtons\">\\r\\n                    <a href=\"#\" class=\"mediaViewerPrev\"></a>\\r\\n                </div>\\r\\n                <div class=\"swiper-button-next photoGalleryButtons\">\\r\\n                    <a href=\"#\" class=\"mediaViewerNext\"></a>\\r\\n                </div>\\r\\n\\r\\n        </div>\\r\\n        <div data-bind=\"visible:(currentMedia() === \\'map\\')\">\\r\\n            <div id=\"mapContainer\" data-lat=\"0\" data-lng=\"0\" data-title=\"1.3 ha farm in Byrne Valley\"></div>\\r\\n        </div>\\r\\n    </div>\\r\\n        <div class=\"photoThumbs\" data-bind=\"visible:showImageCount()\">\\r\\n            <div class=\"thumbNav\">\\r\\n                <!-- ko foreach:imageThumbs  -->\\r\\n                <div class=\"thumb\" data-bind=\"css:getThumbCss($parent.activeIndex()),\\r\\n                                                    event:{\\r\\n                                                        click:function(data,event){$parent.slideTo(imageIndex);},\\r\\n                                                        mouseover:function(data,event){ if(mediaType !== \\'video\\' && mediaType !== \\'vt\\'){$parent.showThumb(imageIndex, event);}},\\r\\n                                                        mouseout:function(data,event){if(mediaType !== \\'video\\' && mediaType !== \\'vt\\'){$parent.hideThumb(imageIndex);}}\\r\\n                                                    },\\r\\n                                                    style:{backgroundColor:(mediaType !== \\'image\\' && mediaType !== \\'floorPlan\\') ? \\'#ccc\\': \\'\\'}\">\\r\\n                    <span data-bind=\"text:thumbContent\"></span>\\r\\n                    <!-- ko if: (mediaType === \"image\" || mediaType === \"floorPlan\") -->\\r\\n                    <div class=\"thumbPreview\" data-bind=\"event:{mouseover:function(data,event){$parent.showThumb(imageIndex, event);},\\r\\n                                                                mouseout:function(data,event){$parent.hideThumb(imageIndex);}},\\r\\n                                                                css:{showThumb:$parent.thumbIndex() === imageIndex}\">\\r\\n                        <div class=\"imgHolder\">\\r\\n                            <img data-bind=\"attr:{\\'data-src\\':thumbUrl}\" />\\r\\n                        </div>\\r\\n                        <span></span>\\r\\n                    </div>\\r\\n                    <!-- /ko -->\\r\\n                    <!-- ko if: (mediaType === \"mo\") -->\\r\\n                    <div class=\"thumbPreview\" data-bind=\"event:{mouseover:function(data,event){$parent.showThumb(imageIndex);},\\r\\n                                                                mouseout:function(data,event){$parent.hideThumb(imageIndex);}},\\r\\n                                                                css:{showThumb:$parent.thumbIndex() === imageIndex}\">\\r\\n                        <div class=\"moThumb\">\\r\\n                            <p>Apply for a Home&nbsp;Loan</p>\\r\\n                        </div>\\r\\n                        <span></span>\\r\\n                    </div>\\r\\n                    <!-- /ko -->\\r\\n                    <!-- ko if: (mediaType === \"contact\") -->\\r\\n                    <div class=\"thumbPreview\" data-bind=\"event:{mouseover:function(data,event){$parent.showThumb(imageIndex);},\\r\\n                                                                    mouseout:function(data,event){$parent.hideThumb(imageIndex);}},\\r\\n                                                             css:{showThumb:$parent.thumbIndex() === imageIndex}\">\\r\\n                        <div class=\"contactThumb\">\\r\\n                            <p>Contact<br />Agent</p>\\r\\n                        </div>\\r\\n                        <span></span>\\r\\n                    </div>\\r\\n                    <!-- /ko -->\\r\\n                </div>\\r\\n                <!-- /ko -->\\r\\n                <div class=\"photoNav\"></div>\\r\\n            </div>\\r\\n\\r\\n        </div>\\r\\n</div>\\r\\n<script type=\"text/ko-template\" id=\"slideTemplate\">\\r\\n    <div class=\"swiper-slide swiper-no-swiping\" data-bind=\"attr:{index:dataSwiperSlideIndex}\">\\r\\n        <!-- ko if(mediaType === \"image\")-->\\r\\n        <div class=\"swiper-lazy slideImage\"\\r\\n             data-bind=\"attr:{\\'data-background\\':mediaUrl,\\'data-media-type\\':mediaType}, css:slideClass\"\\r\\n             style=\"background-image:url(/Content/Portal/Images/placeholder/pp-icon-loading-600x450.png);\">\\r\\n            <div class=\"swiper-lazy-preloader swiper-lazy-preloader-black\"></div>\\r\\n        </div>\\r\\n        <!--/ko-->\\r\\n        <!--ko if( mediaType === \"floorPlan\" )-->\\r\\n        <div class=\"swiper-lazy slideImage\"\\r\\n             data-bind=\"attr:{\\'data-background\\':mediaUrl,\\'data-media-type\\':mediaType}\"\\r\\n             style=\"background-image:url(/Content/Portal/Images/placeholder/pp-icon-loading-600x450.png);\"></div>\\r\\n        <!--/ko-->\\r\\n        <!--ko if( mediaType === \"video\" ||  mediaType === \"vt\")-->\\r\\n        <div data-bind=\"attr:{dataSrc:mediaUrl, \\'data-media-type\\':mediaType}\"\\r\\n             data-is-loaded=\"false\"\\r\\n             class=\"mediaFrame\"></div>\\r\\n        <!--/ko-->\\r\\n    </div>\\r\\n</script>\\r\\n\\r\\n\\r\\n    </section>\\r\\n    <footer>\\r\\n        <div class=\"footerInfo row\">\\r\\n            <div class=\"footerCol\">\\r\\n                <h3>Property</h3>\\r\\n                <ul>\\r\\n                    <li><a href=\"/\">Property For Sale</a></li>\\r\\n                    <li><a href=\"/to-rent\">Property To Rent</a></li>\\r\\n                    <li><a href=\"/on-show/\">Property On Show</a></li>\\r\\n                    <li><a href=\"/developments/South-Africa/1.htm\">Developments</a></li>\\r\\n                    <li><a href=\"/commercial-properties-for-sale-in-south-africa\">Commercial Sales</a></li>\\r\\n                    <li><a href=\"/commercial-properties-to-rent-in-south-africa\">Commercial Rentals</a></li>\\r\\n                    <li><a href=\"/bank-sales.htm\">Bank Repossessions</a></li>\\r\\n                    <li><a href=\"/estate-agents-in-south-africa\">Find an Estate Agent</a></li>\\r\\n                </ul>\\r\\n            </div>\\r\\n            <div class=\"footerCol\">\\r\\n                <h3>Advertise</h3>\\r\\n                <ul>\\r\\n                    <li><a href=\"/list-your-property/list-for-sale.htm\">List Your Property For Sale</a></li>\\r\\n                    <li><a href=\"/list-your-property/list-to-rent.htm\">List Your Property To Rent</a></li>\\r\\n                    <li><a href=\"/list-your-property/list-as-an-agent.htm\">For Estate Agents</a></li>\\r\\n                </ul>\\r\\n            </div>\\r\\n            <div class=\"footerCol\">\\r\\n                <h3>Services</h3>\\r\\n                <ul>\\r\\n                    <li><a href=\"/advice\">Property Advice</a></li>\\r\\n                    <li><a href=\"/advice/agent-advice\">Agent Advice</a></li>\\r\\n                    <li><a href=\"/bond-calculator.htm?rt= bondcalcfooter\">Bond Calculator</a></li>\\r\\n                    <li><a href=\"/bond-affordability-calculator.htm?rt= affordabilitycalcfooter\">Affordability Calculator</a></li>\\r\\n                    <li><a href=\"/bridging_finance.htm\">Bridging Finance</a></li>\\r\\n\\r\\n                  \\r\\n                    <li><a href=\"/attorneys/list/kwazulu-natal/drakensberg/richmond-and-surrounds/byrne-valley/2546\">Attorneys</a></li>\\r\\n                    <li><a href=\"/rebosa\">REBOSA</a></li>\\r\\n                </ul>\\r\\n            </div>\\r\\n            <div class=\"footerCol\">\\r\\n                <h3>Media</h3>\\r\\n                <ul>\\r\\n                    <li><a href=\"/advice/news/\">Property News</a></li>\\r\\n                    <li><a href=\"/neighbourhoods\">Neighbourhoods</a></li>\\r\\n                </ul>\\r\\n                <div class=\"socialMedia\">\\r\\n                    <a href=\"http://www.facebook.com/propertysa\" class=\"facebook\" target=\"_blank\"></a>\\r\\n                    <a href=\"https://twitter.com/propertysa\" class=\"twitter\" target=\"_blank\"></a>\\r\\n                    <a href=\"http://www.youtube.com/user/privatepropertySA\" class=\"youtube\" target=\"_blank\"></a>\\r\\n                    <a href=\"http://plus.google.com/+privateproperty/posts\" class=\"googlePlus\" target=\"_blank\"></a>\\r\\n                </div>\\r\\n            </div>\\r\\n            <div class=\"footerCol\">\\r\\n                <h3>Company</h3>\\r\\n                <ul>\\r\\n                    <li><a href=\"/careers\">Careers</a></li>\\r\\n                    <li><a href=\"/ContactUs.aspx\">Contact Us</a></li>\\r\\n                    <li><a href=\"/terms-and-conditions\">Terms &amp; Conditions</a></li>\\r\\n                    <li><a href=\"/sa-womens-hockey\">Sponsorships</a></li>\\r\\n                </ul>\\r\\n            </div>\\r\\n        </div>\\r\\n        <div class=\"wrapper copyrightSponsor\">\\r\\n            <div class=\"copyright\">\\r\\n                Copyright &copy; Private Property South Africa (Pty) Ltd. 1997 - 2017. All Rights Reserved.\\r\\n            </div>\\r\\n            <div class=\"sawHockey\">\\r\\n                <span>\\r\\n                    <img src=\"/Content/Portal/Images/externalmedia/SAHockey/footer/sawh-logo1.png\" />\\r\\n                    Proud sponsor of the South African Women\\'s Hockey Team.\\r\\n                </span>\\r\\n            </div>\\r\\n        </div>\\r\\n\\r\\n    </footer>\\r\\n\\r\\n    \\r\\n    <div id=\"message\" class=\"successMessage row\">\\r\\n        \\r\\n    </div>\\r\\n\\r\\n    \\r\\n    <div id=\"portalModal\" class=\"dialog\" role=\"dialog\" aria-hidden=\"true\"></div>\\r\\n\\r\\n    \\r\\n    <div id=\"backdrop\" class=\"menuBackdrop\"></div>\\r\\n\\r\\n    <div id=\"messageResponse\">\\r\\n    </div>\\r\\n            \\r\\n    <!--[if IE 8]>\\r\\n        <div style=\\'clear: both; height: 112px; width:350px; padding:0; position: fixed; bottom: 0; left:0;z-index:10;\\'>\\r\\n            <a href=\"/Portal/Legacy/BrowserNotSupported\" target=\"_blank\">\\r\\n                <img src=\"/Content/Portal/Images/legacy/browser-outdated-01.png\" alt=\"Your browser is outdated\" width=\"350\" height=\"112\" />\\r\\n            </a>\\r\\n        </div>\\r\\n    <![endif]-->\\r\\n    \\r\\n\\r\\n\\r\\n\\r\\n<script>\\r\\n        var portalContext = {\"isMobile\":false,\"listingType\":1,\"pageType\":0,\"isMobileApp\":false,\"allowPreloader\":true,\"deviceId\":\"63L8i-CYwEuMtnSizvl-Eg\",\"baseUrl\":\"https://www.privateproperty.co.za/\",\"showSiteTakeOver\":false,\"showClientSideDebugging\":false};\\r\\n</script>\\r\\n<script src=\"//ajax.googleapis.com/ajax/libs/jquery/3.1.1/jquery.min.js\"></script>\\r\\n    <script src=\"https://cdnjs.cloudflare.com/ajax/libs/react/15.3.2/react.min.js\"></script>\\r\\n    <script src=\"https://cdnjs.cloudflare.com/ajax/libs/react/15.3.2/react-dom.min.js\"></script>\\r\\n<script src=\"/external-scripts/modernizr-custom.js\"></script>\\r\\n\\r\\n<script src=\"/bundles/site.9f8c585f586a1d26313b.bundle.js\"></script>\\r\\n\\r\\n    \\r\\n    \\r\\n    \\r\\n    <script>\\r\\nvar pageContext = {\"pageName\":\"detailsPage\",\"pageParams\":{\"listingId\":2366552,\"portalRef\":\"T479322\",\"accountHolderIds\":[1887871],\"mortgageOriginator\":1,\"hasHdContent\":false,\"isOnWishlist\":false,\"mobileAppShareText\":\"1.3 ha farm in Byrne Valley for sale (R700 000)\",\"listingPrice\":\"700000\",\"suburbName\":\"Byrne Valley\",\"houseType\":\"farm\",\"numBedrooms\":2.0}}\\r\\n</script><script src=\"/bundles/listing.87f5645fc205aa02b88c.bundle.js\"></script>\\r\\n    <script type=\"text/ko-template\" id=\"contactTemplate\">\\r\\n        <div class=\"agent swiper-slide swiper-no-swiping\" data-template data-bind=\"attr:{dataContactId:contactId}\">\\r\\n            <a data-bind=\"attr:{href:agentPageUrl}\">\\r\\n                <div class=\"agentImage\">\\r\\n                    <img data-bind=\"attr:{src:agentImage,alt:agentName}\" />\\r\\n                </div>\\r\\n            </a>\\r\\n            <a data-bind=\"attr:{href:agentPageUrl},text:agentName\" class=\"contactName\" style=color:#fff;>\\r\\n            </a>\\r\\n            <div class=\"contactType\" data-bind=\"text:contactType\" style=color:#fff;></div>\\r\\n            <div class=\"telNos\" data-bind=\"visible:hasNumbersShown, foreach:contactNumbers\">\\r\\n                <div class=\"telNo\">\\r\\n                    <span data-bind=\"style:{color:$parent.textColor}, text:numberType\"></span><a data-bind=\"attr:{href:\\'tel:\\' + phoneNumber}, text:phoneNumber, style:{color:$parent.textColor}\"></a>\\r\\n                </div>\\r\\n            </div>\\r\\n        </div>\\r\\n    </script>\\r\\n\\r\\n    \\r\\n\\r\\n    \\r\\n</body>\\r\\n\\r\\n</html>\\r\\n'"
      ]
     },
     "execution_count": 11,
     "metadata": {},
     "output_type": "execute_result"
    }
   ],
   "source": [
    "html.read()"
   ]
  },
  {
   "cell_type": "markdown",
   "metadata": {},
   "source": [
    "## More Robustly Retrieving the Page"
   ]
  },
  {
   "cell_type": "markdown",
   "metadata": {},
   "source": [
    "Things can go wrong when you try to retrieve a web page. We have all had this experience in a browser. The same thing can happen in code.\n",
    "\n",
    "Here are some possibilities:\n",
    "\n",
    "- 404 error (page not found);\n",
    "- 500 error (server error); or\n",
    "- DNS failure or server not found.\n",
    "\n",
    "Write code to cater for these cases."
   ]
  },
  {
   "cell_type": "code",
   "execution_count": 19,
   "metadata": {},
   "outputs": [
    {
     "name": "stdout",
     "output_type": "stream",
     "text": [
      "Sucessfully retrieved the HTML for http://bit.ly/2eL160q.\n"
     ]
    }
   ],
   "source": [
    "# Try these URLs:\n",
    "#\n",
    "#URL = \"https://www.privateproperty.co.za/for-sale/kwazulu-natal/durban/\"\n",
    "#URL = \"http://www.totally-bogus-server.com/\"\n",
    "\n",
    "try:\n",
    "\thtml = urlopen(URL)\n",
    "except HTTPError as e:\n",
    "\tprint(e)\n",
    "    #\n",
    "    # [Code to handle this error.]\n",
    "except URLError as e:\n",
    "\tprint(e)\n",
    "    #\n",
    "    # [Code to handle this error.]\n",
    "else:\n",
    "    print(\"Sucessfully retrieved the HTML for %s.\" % URL)\n",
    "    #\n",
    "    # This branch is not really necessary."
   ]
  },
  {
   "cell_type": "markdown",
   "metadata": {},
   "source": [
    "We've been using `urlopen()` which returns the contents of a URL as a string. What if we want to actually store a local copy of the URL? This can be handy for offline processing or if we want to archive a version of the page."
   ]
  },
  {
   "cell_type": "markdown",
   "metadata": {
    "collapsed": true
   },
   "source": [
    "## Retrieving to a File"
   ]
  },
  {
   "cell_type": "markdown",
   "metadata": {
    "collapsed": true
   },
   "source": [
    "To download a URL to a local file use `urlretrieve()`."
   ]
  },
  {
   "cell_type": "code",
   "execution_count": 20,
   "metadata": {},
   "outputs": [],
   "source": [
    "filepath, http_message = urlretrieve(URL)"
   ]
  },
  {
   "cell_type": "markdown",
   "metadata": {},
   "source": [
    "The return value is a tuple containing\n",
    "\n",
    "- the path of the file in which the page is stored and\n",
    "- a `HTTPMessage` object."
   ]
  },
  {
   "cell_type": "markdown",
   "metadata": {},
   "source": [
    "By default the file is downloaded to a temporary location."
   ]
  },
  {
   "cell_type": "code",
   "execution_count": 21,
   "metadata": {},
   "outputs": [
    {
     "data": {
      "text/plain": [
       "'/tmp/tmpjss955er'"
      ]
     },
     "execution_count": 21,
     "metadata": {},
     "output_type": "execute_result"
    }
   ],
   "source": [
    "filepath"
   ]
  },
  {
   "cell_type": "markdown",
   "metadata": {},
   "source": [
    "Check on the resulting file."
   ]
  },
  {
   "cell_type": "code",
   "execution_count": 22,
   "metadata": {},
   "outputs": [
    {
     "data": {
      "text/plain": [
       "os.stat_result(st_mode=33152, st_ino=17, st_dev=38, st_nlink=1, st_uid=1000, st_gid=1000, st_size=87604, st_atime=1507121866, st_mtime=1507121866, st_ctime=1507121866)"
      ]
     },
     "execution_count": 22,
     "metadata": {},
     "output_type": "execute_result"
    }
   ],
   "source": [
    "os.stat(filepath)"
   ]
  },
  {
   "cell_type": "markdown",
   "metadata": {},
   "source": [
    "The `HTTPMessage` object contains the response headers and behaves like a dictionary."
   ]
  },
  {
   "cell_type": "code",
   "execution_count": 23,
   "metadata": {},
   "outputs": [
    {
     "data": {
      "text/plain": [
       "'Cache-Control: private\\nContent-Type: text/html; charset=utf-8\\nServer: Microsoft-IIS/10.0\\nX-AspNetMvc-Version: 5.2\\nX-AspNet-Version: 4.0.30319\\nSet-Cookie: live-za.phoenix.dv=1Eh2iIp5hECJLwCVlLYAxg; expires=Sun, 04-Oct-2116 12:57:45 GMT; path=/\\nSet-Cookie: bondCalc_primeInterestRate=10.25; path=/\\nSet-Cookie: bondCalc_txtInterestRate=10.25; path=/\\nX-Powered-By: ASP.NET\\nDate: Wed, 04 Oct 2017 12:57:45 GMT\\nConnection: close\\nContent-Length: 87604\\n\\n'"
      ]
     },
     "execution_count": 23,
     "metadata": {},
     "output_type": "execute_result"
    }
   ],
   "source": [
    "http_message.as_string()"
   ]
  },
  {
   "cell_type": "code",
   "execution_count": 24,
   "metadata": {},
   "outputs": [
    {
     "data": {
      "text/plain": [
       "[('Cache-Control', 'private'),\n",
       " ('Content-Type', 'text/html; charset=utf-8'),\n",
       " ('Server', 'Microsoft-IIS/10.0'),\n",
       " ('X-AspNetMvc-Version', '5.2'),\n",
       " ('X-AspNet-Version', '4.0.30319'),\n",
       " ('Set-Cookie',\n",
       "  'live-za.phoenix.dv=1Eh2iIp5hECJLwCVlLYAxg; expires=Sun, 04-Oct-2116 12:57:45 GMT; path=/'),\n",
       " ('Set-Cookie', 'bondCalc_primeInterestRate=10.25; path=/'),\n",
       " ('Set-Cookie', 'bondCalc_txtInterestRate=10.25; path=/'),\n",
       " ('X-Powered-By', 'ASP.NET'),\n",
       " ('Date', 'Wed, 04 Oct 2017 12:57:45 GMT'),\n",
       " ('Connection', 'close'),\n",
       " ('Content-Length', '87604')]"
      ]
     },
     "execution_count": 24,
     "metadata": {},
     "output_type": "execute_result"
    }
   ],
   "source": [
    "http_message.items()"
   ]
  },
  {
   "cell_type": "code",
   "execution_count": 25,
   "metadata": {},
   "outputs": [
    {
     "data": {
      "text/plain": [
       "'Wed, 04 Oct 2017 12:57:45 GMT'"
      ]
     },
     "execution_count": 25,
     "metadata": {},
     "output_type": "execute_result"
    }
   ],
   "source": [
    "http_message['Date']"
   ]
  },
  {
   "cell_type": "markdown",
   "metadata": {},
   "source": [
    "\n",
    "We can also save the file to a specified location."
   ]
  },
  {
   "cell_type": "code",
   "execution_count": 26,
   "metadata": {},
   "outputs": [
    {
     "data": {
      "text/plain": [
       "('T479322.html', <http.client.HTTPMessage at 0x7fe990072668>)"
      ]
     },
     "execution_count": 26,
     "metadata": {},
     "output_type": "execute_result"
    }
   ],
   "source": [
    "urlretrieve(URL, filename = 'T479322.html')"
   ]
  },
  {
   "cell_type": "markdown",
   "metadata": {},
   "source": [
    "## Parsing `robots.txt`"
   ]
  },
  {
   "cell_type": "markdown",
   "metadata": {},
   "source": [
    "Create an object for parsing `robots.txt`."
   ]
  },
  {
   "cell_type": "code",
   "execution_count": 27,
   "metadata": {},
   "outputs": [],
   "source": [
    "robots = RobotFileParser()"
   ]
  },
  {
   "cell_type": "markdown",
   "metadata": {},
   "source": [
    "Let's work with the `robots.txt` from [PrivateProperty](https://www.privateproperty.co.za/robots.txt)."
   ]
  },
  {
   "cell_type": "code",
   "execution_count": 28,
   "metadata": {},
   "outputs": [],
   "source": [
    "robots.set_url('https://www.privateproperty.co.za/robots.txt')\n",
    "robots.read()"
   ]
  },
  {
   "cell_type": "markdown",
   "metadata": {},
   "source": [
    "The `can_fetch()` method accepts two arguments:\n",
    "\n",
    "- a User Agent and\n",
    "- a URL."
   ]
  },
  {
   "cell_type": "code",
   "execution_count": 29,
   "metadata": {},
   "outputs": [
    {
     "data": {
      "text/plain": [
       "True"
      ]
     },
     "execution_count": 29,
     "metadata": {},
     "output_type": "execute_result"
    }
   ],
   "source": [
    "robots.can_fetch('*', 'https://www.privateproperty.co.za/Portal/Home')"
   ]
  },
  {
   "cell_type": "markdown",
   "metadata": {},
   "source": [
    "This URL is not allowed for anybody..."
   ]
  },
  {
   "cell_type": "code",
   "execution_count": 30,
   "metadata": {},
   "outputs": [
    {
     "data": {
      "text/plain": [
       "False"
      ]
     },
     "execution_count": 30,
     "metadata": {},
     "output_type": "execute_result"
    }
   ],
   "source": [
    "robots.can_fetch('*', 'https://www.privateproperty.co.za/Login')"
   ]
  },
  {
   "cell_type": "markdown",
   "metadata": {},
   "source": [
    "... except Google, who is welcome."
   ]
  },
  {
   "cell_type": "code",
   "execution_count": 31,
   "metadata": {},
   "outputs": [
    {
     "data": {
      "text/plain": [
       "True"
      ]
     },
     "execution_count": 31,
     "metadata": {},
     "output_type": "execute_result"
    }
   ],
   "source": [
    "robots.can_fetch('Mediapartners-Google', 'https://www.privateproperty.co.za/Login')"
   ]
  },
  {
   "cell_type": "markdown",
   "metadata": {},
   "source": [
    "## Cleaning Up"
   ]
  },
  {
   "cell_type": "code",
   "execution_count": null,
   "metadata": {
    "collapsed": true
   },
   "outputs": [],
   "source": [
    "os.remove('T479322.html')"
   ]
  }
 ],
 "metadata": {
  "kernelspec": {
   "display_name": "Python 3",
   "language": "python",
   "name": "python3"
  },
  "language_info": {
   "codemirror_mode": {
    "name": "ipython",
    "version": 3
   },
   "file_extension": ".py",
   "mimetype": "text/x-python",
   "name": "python",
   "nbconvert_exporter": "python",
   "pygments_lexer": "ipython3",
   "version": "3.6.2"
  }
 },
 "nbformat": 4,
 "nbformat_minor": 2
}
