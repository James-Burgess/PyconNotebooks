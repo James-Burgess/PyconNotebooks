{
 "cells": [
  {
   "cell_type": "markdown",
   "metadata": {},
   "source": [
    "# Deep Learning\n",
    "## a gentle dive"
   ]
  },
  {
   "cell_type": "markdown",
   "metadata": {},
   "source": [
    "Super Powerful but still a long way to go\n",
    "<br>\n",
    "neural network with many hidden layers. layer talks to layer\n",
    "x - magic box - y\n",
    "x can talk to y\n",
    "y can talk to x\n",
    "calculate the slope and change weights of each neuron - back propapgation\n",
    "<br>\n",
    "ILSVRC - Image Training Comp - Image Net\n",
    "2015 Micrsoft ResNet beats Humans\n",
    "2017??\n",
    "<br>\n",
    "## Convolutional Neural Network\n",
    "Made up of layers \n",
    "Each layer is less abstraact\n",
    "VTG16 NET \n",
    "Each layer is made up of\n",
    "1. Convolutions\n",
    "    represent the image of 1/0 and make a math map (7x7 - 3x3 via slide)\n",
    "    \n",
    "2. Activations\n",
    "    Introduces non-linarity \n",
    "3. Pooling\n",
    "    summarises all the data and pools. reducing the output vol. (2x2 max pooling)\n",
    "<br>\n",
    "## Choosing Hyperparamters\n",
    "Tweak the process until you find the right settings\n",
    "\n",
    "## softmax layer\n",
    "\n",
    "## Training\n",
    "build database and measure the error, make adjustments until perfect\n",
    "\n",
    "## Inference\n",
    "using the trained model on unlabeled data.\n",
    "\n"
   ]
  },
  {
   "cell_type": "markdown",
   "metadata": {},
   "source": [
    "Python Frontend\n",
    "<br>\n",
    "Tensorflow DEE\n",
    "CPU GPU ANDROID IOS\n",
    "\n",
    "# Dogs vs Cats"
   ]
  },
  {
   "cell_type": "markdown",
   "metadata": {},
   "source": [
    "# TensorFlow Basics\n",
    "\n",
    "What is a tensor?\n",
    "a multidimensioal array\n",
    "2x3x4\n"
   ]
  },
  {
   "cell_type": "code",
   "execution_count": 1,
   "metadata": {},
   "outputs": [
    {
     "ename": "ModuleNotFoundError",
     "evalue": "No module named 'matplotlib'",
     "output_type": "error",
     "traceback": [
      "\u001b[0;31m----------------------------------------\u001b[0m",
      "\u001b[0;31mModuleNotFoundError\u001b[0mTraceback (most recent call last)",
      "\u001b[0;32m<ipython-input-1-93491577f61e>\u001b[0m in \u001b[0;36m<module>\u001b[0;34m()\u001b[0m\n\u001b[0;32m----> 1\u001b[0;31m \u001b[0;32mimport\u001b[0m \u001b[0mmatplotlib\u001b[0m\u001b[0;34m\u001b[0m\u001b[0m\n\u001b[0m\u001b[1;32m      2\u001b[0m \u001b[0;32mimport\u001b[0m \u001b[0mnumpy\u001b[0m\u001b[0;34m\u001b[0m\u001b[0m\n\u001b[1;32m      3\u001b[0m \u001b[0;34m\u001b[0m\u001b[0m\n\u001b[1;32m      4\u001b[0m \u001b[0;34m\u001b[0m\u001b[0m\n\u001b[1;32m      5\u001b[0m \u001b[0;31m#load images\u001b[0m\u001b[0;34m\u001b[0m\u001b[0;34m\u001b[0m\u001b[0m\n",
      "\u001b[0;31mModuleNotFoundError\u001b[0m: No module named 'matplotlib'"
     ]
    }
   ],
   "source": [
    "import matplotlib\n",
    "import numpy\n",
    "\n",
    "\n",
    "#load images\n",
    "#load labels\n",
    "#shape images\n",
    "#set up tesorflow settion \n",
    "#set up traing and validation datasets\n",
    "\n",
    "\n"
   ]
  },
  {
   "cell_type": "code",
   "execution_count": null,
   "metadata": {},
   "outputs": [],
   "source": []
  },
  {
   "cell_type": "markdown",
   "metadata": {},
   "source": [
    "# Deep Learning for image classification\n",
    "\n",
    "https://github.com/alexcnwy\n",
    "\n",
    "## Image classifcation\n",
    "## Object detection\n",
    "## Image captioning and Visual Attention\n",
    "## Image QandA (Who is wearing the glasses?)\n",
    "## Video QandA\n",
    "## Generative Models pix 2 pix\n",
    "## Automate colorisations\n",
    "## Style Sorcey\n",
    "## Auto Lypsync wavenet\n",
    "<br>\n",
    "# Deep Learning is easy\n",
    "1. what is a network\n",
    "    what is a neuron\n",
    "        3 inputs\n",
    "        3 weights\n",
    "        sum it up\n",
    "        \n",
    "    Activation function\n",
    "        - sigmoid\n",
    "        - tanH\n",
    "        - relu\n",
    "        (weights)\n",
    "    deep NN is multipule layers of neurons\n",
    "    <br>\n",
    "2. How Does it learn?\n",
    "    use labels\n",
    "    apply filters\n",
    "    check results\n",
    "    back propagate to change results\n",
    "    new rate = old rate -(learning rate * error increse)\n",
    "    <br>\n",
    "3. Gradient Descent\n",
    "    keep going down till you get to 0\n",
    "<br>\n",
    "## Tesorflow Playground (online NeNe)\n",
    "<br>\n",
    "## What is a CNN\n",
    "1. really good for images\n",
    "2. Keep breaking things down into smaller parts\n",
    "3. grouping blocks to make the data easier to process\n",
    "4. 2d weighted average\n",
    "5. max pooling\n",
    "6. bring it all together\n",
    "7. softmax convert scores to probabilities\n",
    "<br>\n",
    "\n",
    "## Imagenet (labeled data) - competition moved to kaggle\n",
    "\n",
    "# VGG Nest\n",
    "## classifing product images \n",
    "\n",
    "sematic segmatation \n",
    "pixel classificartion\n",
    "\n",
    "Object detection\n",
    "box around object\n",
    "\n",
    "Style transfer\n",
    "change content image to style of style image\n",
    "\n",
    "Super Resolution\n",
    "\n",
    "Visual Attention\n",
    "\n",
    "Image Captionaing\n",
    "\n",
    "Word to Vec\n",
    "\n",
    "my phonenumber is the last 10 digits of pi\n",
    "\n",
    "DeVise - A deep visual sematic embedding model\n",
    "\n",
    "\n",
    "Alex@numberboost.com \n",
    "\n"
   ]
  },
  {
   "cell_type": "code",
   "execution_count": null,
   "metadata": {},
   "outputs": [],
   "source": []
  }
 ],
 "metadata": {
  "kernelspec": {
   "display_name": "Python 3",
   "language": "python",
   "name": "python3"
  },
  "language_info": {
   "codemirror_mode": {
    "name": "ipython",
    "version": 3
   },
   "file_extension": ".py",
   "mimetype": "text/x-python",
   "name": "python",
   "nbconvert_exporter": "python",
   "pygments_lexer": "ipython3",
   "version": "3.6.2"
  }
 },
 "nbformat": 4,
 "nbformat_minor": 2
}
