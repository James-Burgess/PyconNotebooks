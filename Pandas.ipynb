{
 "cells": [
  {
   "cell_type": "markdown",
   "metadata": {},
   "source": [
    "# Pandas\n",
    "\n",
    "## looks like numpy with extra stuffs\n",
    "\n",
    "## Pandas can export to nearly everthing\n",
    "<br>\n",
    "## uses\n",
    "1. importing\n",
    "2. exporting\n",
    "3. joining \n",
    "4. grouping and aggregating\n",
    "5. Transforming\n",
    "6. Handling missing vals\n",
    "7. bool conditional indexing\n",
    "8. builtin math and stats\n",
    "9. time series\n",
    "10. Visualistions\n",
    "<br>\n",
    "## Resources\n",
    "1. Pandas and dask from the inside \n",
    "<br>\n",
    "## link to git\n",
    "https://github.com/LauraRichter"
   ]
  },
  {
   "cell_type": "code",
   "execution_count": 2,
   "metadata": {},
   "outputs": [],
   "source": [
    "import pandas as pd\n",
    "import numpy as np\n",
    "\n",
    "#%load_ext memory_profiler\n",
    "#%load_ext line_profiler"
   ]
  },
  {
   "cell_type": "code",
   "execution_count": null,
   "metadata": {},
   "outputs": [],
   "source": []
  }
 ],
 "metadata": {
  "kernelspec": {
   "display_name": "Python 3",
   "language": "python",
   "name": "python3"
  },
  "language_info": {
   "codemirror_mode": {
    "name": "ipython",
    "version": 3
   },
   "file_extension": ".py",
   "mimetype": "text/x-python",
   "name": "python",
   "nbconvert_exporter": "python",
   "pygments_lexer": "ipython3",
   "version": "3.6.2"
  }
 },
 "nbformat": 4,
 "nbformat_minor": 2
}
