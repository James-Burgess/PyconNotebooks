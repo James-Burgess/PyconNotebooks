{
 "cells": [
  {
   "cell_type": "markdown",
   "metadata": {},
   "source": [
    "# Julia\n",
    "\n",
    "## Hello World"
   ]
  },
  {
   "cell_type": "code",
   "execution_count": 1,
   "metadata": {},
   "outputs": [
    {
     "name": "stdout",
     "output_type": "stream",
     "text": [
      "Hello World\n"
     ]
    }
   ],
   "source": [
    "println(\"Hello World\")"
   ]
  },
  {
   "cell_type": "markdown",
   "metadata": {},
   "source": [
    "## Functions"
   ]
  },
  {
   "cell_type": "code",
   "execution_count": 3,
   "metadata": {},
   "outputs": [
    {
     "data": {
      "text/plain": [
       "113097.33552923254"
      ]
     },
     "execution_count": 3,
     "metadata": {},
     "output_type": "execute_result"
    }
   ],
   "source": [
    "function spherevol(r)\n",
    "    return 4/3*pi*r^3\n",
    "end\n",
    "spherevol(30)"
   ]
  },
  {
   "cell_type": "code",
   "execution_count": 9,
   "metadata": {},
   "outputs": [
    {
     "data": {
      "text/plain": [
       "2.5"
      ]
     },
     "execution_count": 9,
     "metadata": {},
     "output_type": "execute_result"
    }
   ],
   "source": [
    "#sussinct functions with \n",
    "#float64 definitions on args - will only accept float\n",
    "quadratic(a, sqr_term::Float64, b::Float64) = (-b + sqr_term) / 2a\n",
    "\n",
    "quadratic(2.0, -2.0, -12.0)"
   ]
  },
  {
   "cell_type": "markdown",
   "metadata": {},
   "source": [
    "## String basics"
   ]
  },
  {
   "cell_type": "code",
   "execution_count": 44,
   "metadata": {},
   "outputs": [
    {
     "name": "stdout",
     "output_type": "stream",
     "text": [
      "the quick brown fox jumps over the lazy dog\n",
      "the quick brown fox jumps over the lazy dog\n",
      "11:15\n",
      "\"the quick red fox jumps over the lazy dog\"\n",
      "11:15\n",
      "RegexMatch(\"brown\")\n",
      "\"brown\"\n",
      "SubString{String}[\"quick\", \"brown\", \"jumps\", \"over\", \"lazy\"]\n",
      "\"quick\" \n",
      "\"brown\" \n",
      "\"jumps\" \n",
      "\"over\" \n",
      "\"lazy\" \n",
      "\"hello hello hello \"\n",
      "\"hello\"\n",
      "ello\n",
      "SubString{String}[\"hello\", \" there\", \"bob\"]\n",
      "SubString{String}[\"hello\", \"there,bob\"]\n",
      "SubString{String}[\"hello\", \"there\", \"bob\"]\n",
      "[1, 2, 3, 4, 5, 6, 7, 8, 9, 10]\n",
      "\"1, 2, 3, 4, 5, 6, 7, 8, 9, 10\""
     ]
    }
   ],
   "source": [
    "#Declartion\n",
    "#Double Quotation marks are important\n",
    "s1 = \"the quick brown fox jumps over the lazy dog\"\n",
    "\n",
    "print(s1) #no newline\n",
    "println()\n",
    "println(s1) #appends newline after str\n",
    "\n",
    "#search strings\n",
    "i = search(s1, \"brown\")\n",
    "println(i)\n",
    "\n",
    "#string replace\n",
    "r = replace(s1, \"brown\", \"red\")\n",
    "show(r); println()\n",
    "\n",
    "#we can also do the devils work and do some regex\n",
    "s = search(s1, r\"b[\\w]*n\")\n",
    "println(s)\n",
    "\n",
    "#you can use functions for regex that return \n",
    "#>RegexMatch(\"\")\n",
    "r = match(r\"b[\\w]*n\", s1)\n",
    "println(r)\n",
    "\n",
    "#return just the string\n",
    "show(r.match); println()\n",
    "\n",
    "#find all instances and return a vector\n",
    "r = matchall(r\"[\\w]{4,}\", s1)\n",
    "println(r)\n",
    "\n",
    "#return an iterator over each match\n",
    "r = eachmatch(r\"[\\w]{4,}\", s1)\n",
    "for i in r println(\"\\\"$(i.match)\\\" \") end\n",
    "\n",
    "#strings can be repeated with ^\n",
    "r = \"hello \"^3\n",
    "show(r); println()\n",
    "\n",
    "#use strip to remove whitespace\n",
    "r = strip(\" hello \")\n",
    "show(r); println()\n",
    "\n",
    "#you can also pass args to strip other stuff\n",
    "r = strip(\" hello \", ['h', ' '])\n",
    "println(r)\n",
    "\n",
    "#split works the same as py\n",
    "r = split(\"hello, there,bob\", ',')\n",
    "show(r); println()\n",
    "\n",
    "r = split(\"hello, there,bob\", \", \")\n",
    "show(r); println()\n",
    "\n",
    "#see docs for info on limit and keep but it removes the extra space?\n",
    "r = split(\"hello, there,bob\", [',', ' '], limit=0, keep=false)\n",
    "show(r); println()\n",
    "\n",
    "\n",
    "#the opposite of split is join\n",
    "\n",
    "println(collect(1:10))\n",
    "r = join(collect(1:10), \", \")\n",
    "show(r); "
   ]
  },
  {
   "cell_type": "markdown",
   "metadata": {},
   "source": [
    "## Arrays"
   ]
  },
  {
   "cell_type": "code",
   "execution_count": 75,
   "metadata": {},
   "outputs": [
    {
     "name": "stdout",
     "output_type": "stream",
     "text": [
      "4-element Array{Int64,1}: [1, 2, 3, 4]\n",
      "0-element Array{Any,1}: Any[]\n",
      "0-element Array{Int64,1}: Int64[]\n",
      "20-element UnitRange{Int64}: 1:20\n",
      "20-element Array{Int64,1}: [1, 2, 3, 4, 5, 6, 7, 8, 9, 10, 11, 12, 13, 14, 15, 16, 17, 18, 19, 20]\n",
      "10-element Array{Int64,1}: [2, 4, 8, 16, 32, 64, 128, 256, 512, 1024]\n",
      "0-element Array{Array{Int64,1},1}: Array{Int64,1}[]\n",
      "5-element Array{Int64,1}: [1, 2, 3, 4, 5]\n",
      "1-element Array{Any,1}: Any[\"string\"]\n",
      "2-element Array{Array{Int64,1},1}: Array{Int64,1}[[1, 2, 3], [256, 999, 84]]\n",
      "15-element Array{Int64,1}: [1, 1, 1, 2, 2, 2, 3, 3, 3, 4, 4, 4, 5, 5, 5]\n",
      "2-element Array{StepRange{Int64,Int64},1}: StepRange{Int64,Int64}[4:-1:1, 4:-1:1]\n"
     ]
    }
   ],
   "source": [
    "function printsum(a)\n",
    "    # summary:: Generates a summary of an object\n",
    "    println(summary(a), \": \", repr(a))\n",
    "end\n",
    "\n",
    "#arrays can be initilaised directly\n",
    "a = [1,2,3,4]\n",
    "printsum(a)\n",
    "\n",
    "#or initialised empty\n",
    "a1 = []\n",
    "printsum(a1)\n",
    "\n",
    "#Arrays can be initialised with a type \n",
    "#so that push will work\n",
    "a3 = Int64[]\n",
    "printsum(a3)\n",
    "\n",
    "#ranges are different from arrays\n",
    "a4 = 1:20\n",
    "printsum(a4)\n",
    "\n",
    "#however they can be used to create arrays\n",
    "a4 = collect(1:20)\n",
    "printsum(a4)\n",
    "\n",
    "#arrays can also be gend from comprehensions\n",
    "a5 = [2^i for i = 1:10]\n",
    "printsum(a5)\n",
    "\n",
    "# arrays can be any type, so arrays of arrays can be created\n",
    "#not the same as multidimesional arrays\n",
    "a6 = (Array{Int64, 1})[]\n",
    "printsum(a6)\n",
    "\n",
    "#use push! to append to the end of a list\n",
    "#the ! indicates that the first arg is updated\n",
    "push!(a, 5)\n",
    "printsum(a)\n",
    "\n",
    "push!(a1, \"string\")\n",
    "printsum(a1)\n",
    "\n",
    "push!(a6, [1,2,3],[256,999,84])\n",
    "printsum(a6)\n",
    "\n",
    "#using repeat to create arrays\n",
    "#using keywords 'inner' and 'outer'\n",
    "\n",
    "a7 = repeat(a, inner=[3], outer=[1])\n",
    "printsum(a7)\n",
    "\n",
    "a8 = repeat([4:-1:1], inner=[1], outer=[2])\n",
    "printsum(a8)"
   ]
  },
  {
   "cell_type": "markdown",
   "metadata": {},
   "source": [
    "## Error Handling"
   ]
  },
  {
   "cell_type": "code",
   "execution_count": 83,
   "metadata": {},
   "outputs": [
    {
     "name": "stdout",
     "output_type": "stream",
     "text": [
      "0-element Array{Int64,1}: Int64[]\n",
      "\u001b[91mMethodError: Cannot `convert` an object of type String to an object of type Int64\n",
      "This may have arisen from a call to the constructor Int64(...),\n",
      "since type constructors fall back to convert methods.\u001b[39m\n",
      "Stacktrace:\n",
      " [1] \u001b[1minclude_string\u001b[22m\u001b[22m\u001b[1m(\u001b[22m\u001b[22m::Module, ::String, ::String\u001b[1m)\u001b[22m\u001b[22m at \u001b[1m/home/jimmy_b/.julia/v0.6/Compat/src/Compat.jl:464\u001b[22m\u001b[22m\n",
      " [2] \u001b[1mexecute_request\u001b[22m\u001b[22m\u001b[1m(\u001b[22m\u001b[22m::ZMQ.Socket, ::IJulia.Msg\u001b[1m)\u001b[22m\u001b[22m at \u001b[1m/home/jimmy_b/.julia/v0.6/IJulia/src/execute_request.jl:154\u001b[22m\u001b[22m\n",
      " [3] \u001b[1meventloop\u001b[22m\u001b[22m\u001b[1m(\u001b[22m\u001b[22m::ZMQ.Socket\u001b[1m)\u001b[22m\u001b[22m at \u001b[1m/home/jimmy_b/.julia/v0.6/IJulia/src/eventloop.jl:8\u001b[22m\u001b[22m\n",
      " [4] \u001b[1m(::IJulia.##14#17)\u001b[22m\u001b[22m\u001b[1m(\u001b[22m\u001b[22m\u001b[1m)\u001b[22m\u001b[22m at \u001b[1m./task.jl:335\u001b[22m\u001b[22m\n",
      "continuing after error\n",
      "0-element Array{Int64,1}: Int64[]\n"
     ]
    }
   ],
   "source": [
    "a = Int64[]\n",
    "printsum(a)\n",
    "\n",
    "try\n",
    "    push!(a, \"this is a string\")\n",
    "catch err\n",
    "    showerror(STDOUT, err, backtrace());println()\n",
    "end\n",
    "println(\"continuing after error\")\n",
    "printsum(a)"
   ]
  },
  {
   "cell_type": "markdown",
   "metadata": {},
   "source": [
    "## Multidimensional Arrays"
   ]
  },
  {
   "cell_type": "code",
   "execution_count": 85,
   "metadata": {},
   "outputs": [
    {
     "name": "stdout",
     "output_type": "stream",
     "text": [
      "12×3 Array{Int64,2}: [1 1 1; 2 1 1; 1 2 1; 2 2 2; 1 3 2; 2 3 2; 1 1 3; 2 1 3; 1 2 3; 2 2 4; 1 3 4; 2 3 4]\n"
     ]
    }
   ],
   "source": [
    "# repeat can be useful to expand a grid\n",
    "# as in R's expand.grid() function\n",
    "\n",
    "m1 = hcat(repeat([1,2],inner=[1],outer=[3*2]),\n",
    "          repeat([1,2,3],inner=[2],outer=[2]),\n",
    "          repeat([1,2,3,4],inner=[3],outer=[1]))\n",
    "printsum(m1)"
   ]
  },
  {
   "cell_type": "code",
   "execution_count": 88,
   "metadata": {},
   "outputs": [
    {
     "name": "stdout",
     "output_type": "stream",
     "text": [
      "24×9 Array{Int64,2}: [1 1 1 1 1 1 1 1 1; 2 1 1 2 1 1 2 1 1; 1 2 1 1 2 1 1 2 1; 2 2 2 2 2 2 2 2 2; 1 3 2 1 3 2 1 3 2; 2 3 2 2 3 2 2 3 2; 1 1 3 1 1 3 1 1 3; 2 1 3 2 1 3 2 1 3; 1 2 3 1 2 3 1 2 3; 2 2 4 2 2 4 2 2 4; 1 3 4 1 3 4 1 3 4; 2 3 4 2 3 4 2 3 4; 1 1 1 1 1 1 1 1 1; 2 1 1 2 1 1 2 1 1; 1 2 1 1 2 1 1 2 1; 2 2 2 2 2 2 2 2 2; 1 3 2 1 3 2 1 3 2; 2 3 2 2 3 2 2 3 2; 1 1 3 1 1 3 1 1 3; 2 1 3 2 1 3 2 1 3; 1 2 3 1 2 3 1 2 3; 2 2 4 2 2 4 2 2 4; 1 3 4 1 3 4 1 3 4; 2 3 4 2 3 4 2 3 4]\n"
     ]
    }
   ],
   "source": [
    "#for simple repetitions of arrays, \n",
    "#use repmat\n",
    "\n",
    "m2 = repmat(m1,2,3) # replicate m1 once into dim1 and twice into dim3\n",
    "printsum(m2)"
   ]
  },
  {
   "cell_type": "code",
   "execution_count": 90,
   "metadata": {},
   "outputs": [
    {
     "name": "stdout",
     "output_type": "stream",
     "text": [
      "2×3×2 Array{Int64,3}: [3 4 5; 4 5 6]\n",
      "\n",
      "[4 5 6; 5 6 7]\n"
     ]
    }
   ],
   "source": [
    "# Julia comprehensions are another way to easily create \n",
    "# multidimensional arrays\n",
    "\n",
    "m4 = [i+j+k for i=1:2, j=1:3, k=1:2] # creates a 2x3x2 array of Int64\n",
    "printsum(m4)"
   ]
  },
  {
   "cell_type": "code",
   "execution_count": 93,
   "metadata": {},
   "outputs": [
    {
     "name": "stdout",
     "output_type": "stream",
     "text": [
      "2×3×2 Array{String,3}: String[\"Hi Im # 0\" \"Hi Im # 2\" \"Hi Im # 4\"; \"Hi Im # 0\" \"Hi Im # 2\" \"Hi Im # 4\"]\n",
      "\n",
      "String[\"Hi Im # 6\" \"Hi Im # 8\" \"Hi Im # 10\"; \"Hi Im # 6\" \"Hi Im # 8\" \"Hi Im # 10\"]\n"
     ]
    }
   ],
   "source": [
    "m5 = [\"Hi Im # $(i=2*(j-1 + 3*(k-1)))\" for i=1:2, j=1:3, k=1:2]\n",
    "printsum(m5)"
   ]
  },
  {
   "cell_type": "markdown",
   "metadata": {},
   "source": [
    "## Loops and Map"
   ]
  },
  {
   "cell_type": "code",
   "execution_count": 94,
   "metadata": {},
   "outputs": [
    {
     "name": "stdout",
     "output_type": "stream",
     "text": [
      "1, 2, 3, 4, 5, "
     ]
    }
   ],
   "source": [
    "for i in 1:5\n",
    "    print(i, \", \")\n",
    "end"
   ]
  },
  {
   "cell_type": "code",
   "execution_count": 95,
   "metadata": {},
   "outputs": [
    {
     "name": "stdout",
     "output_type": "stream",
     "text": [
      "1, 2, 3, 4, 5, 6, 7, 8, 9, 10, 11, 12, 13, 14, 15, "
     ]
    }
   ],
   "source": [
    "for i = 1:15\n",
    "    print(i, \", \")\n",
    "end"
   ]
  },
  {
   "cell_type": "code",
   "execution_count": 96,
   "metadata": {},
   "outputs": [
    {
     "name": "stdout",
     "output_type": "stream",
     "text": [
      "1, 2, 3, 4, 5, "
     ]
    }
   ],
   "source": [
    "a1 = [1,2,3,4,5]\n",
    "for i in a1\n",
    "    print(i, \", \")\n",
    "end"
   ]
  },
  {
   "cell_type": "code",
   "execution_count": 97,
   "metadata": {},
   "outputs": [],
   "source": [
    "a2 = collect(1:20)\n",
    "for i in a2\n",
    "    \n",
    "    if i %2 !=0\n",
    "        continue\n",
    "    end\n",
    "    \n",
    "    if i>= 8\n",
    "        break\n",
    "    end\n",
    "end\n"
   ]
  },
  {
   "cell_type": "code",
   "execution_count": 98,
   "metadata": {},
   "outputs": [
    {
     "name": "stdout",
     "output_type": "stream",
     "text": [
      "5, 4, 3, 2, 1, "
     ]
    }
   ],
   "source": [
    "while !isempty(a1)\n",
    "    print(pop!(a1), \", \")\n",
    "end"
   ]
  },
  {
   "cell_type": "code",
   "execution_count": 99,
   "metadata": {},
   "outputs": [
    {
     "name": "stdout",
     "output_type": "stream",
     "text": [
      "1: one, 2: two, 3: three, "
     ]
    }
   ],
   "source": [
    "d1 = Dict(1=>\"one\", 2=>\"two\", 3=>\"three\")\n",
    "for k in sort(collect(keys(d1)))\n",
    "    print(k, \": \", d1[k], \", \")\n",
    "end"
   ]
  },
  {
   "cell_type": "code",
   "execution_count": 102,
   "metadata": {},
   "outputs": [
    {
     "name": "stdout",
     "output_type": "stream",
     "text": [
      "1: one: 2: two: 3: three: "
     ]
    }
   ],
   "source": [
    "a3 = [\"one\", \"two\", \"three\"]\n",
    "for (i,v) in enumerate(a3)\n",
    "    print(i, \": \", v, \": \")\n",
    "end"
   ]
  },
  {
   "cell_type": "code",
   "execution_count": 104,
   "metadata": {},
   "outputs": [
    {
     "name": "stdout",
     "output_type": "stream",
     "text": [
      "[1, 4, 9, 16, 25, 36, 49, 64, 81, 100, 121, 144, 169, 196, 225, 256, 289, 324, 361, 400]"
     ]
    }
   ],
   "source": [
    "a4 = map((x) -> x^2, a2)\n",
    "print(a4)"
   ]
  },
  {
   "cell_type": "markdown",
   "metadata": {},
   "source": [
    "## Types\n",
    "Types are a key way of structring data within Julia"
   ]
  },
  {
   "cell_type": "code",
   "execution_count": 109,
   "metadata": {},
   "outputs": [
    {
     "name": "stdout",
     "output_type": "stream",
     "text": [
      "Person: Person(\"Julia\", false, 24.0, 0)\n",
      "3-element Array{Person,1}: Person[Person(\"Julia\", false, 24.0, 0), Person(\"Steve\", true, 45.7, 2), Person(\"Gary\", true, 30.0, 1)]\n"
     ]
    }
   ],
   "source": [
    "type Person\n",
    "    name::AbstractString\n",
    "    male::Bool\n",
    "    age::Float64\n",
    "    children::Int\n",
    "end\n",
    "\n",
    "p = Person(\"Julia\", false, 24, 0)\n",
    "printsum(p)\n",
    "\n",
    "people = Person[]\n",
    "push!(people, p)\n",
    "push!(people, Person(\"Steve\", true, 45.7, 2))\n",
    "push!(people, Person(\"Gary\", true, 30, 1))\n",
    "printsum(people)"
   ]
  },
  {
   "cell_type": "code",
   "execution_count": null,
   "metadata": {},
   "outputs": [],
   "source": []
  }
 ],
 "metadata": {
  "kernelspec": {
   "display_name": "Julia 0.6.0",
   "language": "julia",
   "name": "julia-0.6"
  },
  "language_info": {
   "file_extension": ".jl",
   "mimetype": "application/julia",
   "name": "julia",
   "version": "0.6.0"
  }
 },
 "nbformat": 4,
 "nbformat_minor": 2
}
